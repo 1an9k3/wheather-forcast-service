{
 "cells": [
  {
   "cell_type": "markdown",
   "source": [
    "# Shanghai Weather Dataset"
   ],
   "metadata": {
    "collapsed": false
   }
  },
  {
   "cell_type": "markdown",
   "source": [
    "## load full dataset"
   ],
   "metadata": {
    "collapsed": false
   }
  },
  {
   "cell_type": "code",
   "execution_count": 60,
   "outputs": [],
   "source": [
    "import pandas as pd\n",
    "from parallel_pandas import ParallelPandas\n",
    "\n",
    "ParallelPandas.initialize()"
   ],
   "metadata": {
    "collapsed": false
   }
  },
  {
   "cell_type": "code",
   "execution_count": 61,
   "outputs": [],
   "source": [
    "df_raw = pd.read_csv('archive/Shanghai AQI and Wheather 2014-2021.csv')"
   ],
   "metadata": {
    "collapsed": false
   }
  },
  {
   "cell_type": "code",
   "execution_count": 62,
   "outputs": [
    {
     "data": {
      "text/plain": "            date  maxtempC  mintempC  totalSnow_cm  sunHour  uvIndex  \\\n0     2014-01-01      15.0       5.0           0.0      8.7      4.0   \n1     2014-01-02      14.0       7.0           0.0      8.7      4.0   \n2     2014-01-03      16.0       9.0           0.0      8.7      4.0   \n3     2014-01-04      10.0       4.0           0.0      5.5      2.0   \n4     2014-01-05      10.0       3.0           0.0      8.7      3.0   \n...          ...       ...       ...           ...      ...      ...   \n2497  2021-01-26      12.0      10.0           0.0      4.0      3.0   \n2498  2021-01-27      11.0       7.0           0.0      8.7      2.0   \n2499  2021-01-28      10.0       4.0           0.0      8.7      3.0   \n2500  2021-01-29       9.0       6.0           0.0      8.7      3.0   \n2501  2021-01-30      13.0       5.0           0.0      8.7      4.0   \n\n      moon_illumination  DewPointC  FeelsLikeC  HeatIndexC  ...  cloudcover  \\\n0                   0.0       -1.0        11.0        12.0  ...         0.0   \n1                   2.0        4.0        11.0        13.0  ...         3.0   \n2                  10.0        3.0        11.0        12.0  ...        26.0   \n3                  17.0        3.0         7.0         9.0  ...        24.0   \n4                  24.0        3.0         9.0         9.0  ...        12.0   \n...                 ...        ...         ...         ...  ...         ...   \n2497               88.0        7.0        10.0        11.0  ...        91.0   \n2498               96.0        4.0         7.0         9.0  ...        55.0   \n2499              100.0       -5.0         5.0         8.0  ...        16.0   \n2500               90.0       -9.0         5.0         7.0  ...         0.0   \n2501               82.0        0.0         8.0         9.0  ...         5.0   \n\n      humidity  precipMM  pressure  tempC  visibility  winddirDegree  \\\n0         43.0       0.0    1021.0   15.0        10.0          242.0   \n1         60.0       0.0    1019.0   14.0        10.0          141.0   \n2         55.0       0.0    1017.0   16.0        10.0          295.0   \n3         68.0       0.1    1022.0   10.0        10.0          169.0   \n4         66.0       0.0    1024.0   10.0        10.0          117.0   \n...        ...       ...       ...    ...         ...            ...   \n2497      77.0       1.1    1023.0   12.0         8.0          233.0   \n2498      72.0       0.0    1024.0   11.0        10.0           49.0   \n2499      44.0       0.0    1028.0   10.0        10.0          291.0   \n2500      32.0       0.0    1030.0    9.0        10.0          188.0   \n2501      56.0       0.0    1027.0   13.0        10.0          159.0   \n\n      windspeedKmph    AQI   AQI_Explained  \n0              12.0  319.0       Hazardous  \n1              14.0  352.0       Hazardous  \n2              14.0  338.0       Hazardous  \n3              14.0  355.0       Hazardous  \n4               6.0  343.0       Hazardous  \n...             ...    ...             ...  \n2497            9.0  229.0  Very unhealthy  \n2498           11.0  200.0       Unhealthy  \n2499           19.0  309.0       Hazardous  \n2500           10.0  320.0       Hazardous  \n2501           10.0  162.0       Unhealthy  \n\n[2502 rows x 22 columns]",
      "text/html": "<div>\n<style scoped>\n    .dataframe tbody tr th:only-of-type {\n        vertical-align: middle;\n    }\n\n    .dataframe tbody tr th {\n        vertical-align: top;\n    }\n\n    .dataframe thead th {\n        text-align: right;\n    }\n</style>\n<table border=\"1\" class=\"dataframe\">\n  <thead>\n    <tr style=\"text-align: right;\">\n      <th></th>\n      <th>date</th>\n      <th>maxtempC</th>\n      <th>mintempC</th>\n      <th>totalSnow_cm</th>\n      <th>sunHour</th>\n      <th>uvIndex</th>\n      <th>moon_illumination</th>\n      <th>DewPointC</th>\n      <th>FeelsLikeC</th>\n      <th>HeatIndexC</th>\n      <th>...</th>\n      <th>cloudcover</th>\n      <th>humidity</th>\n      <th>precipMM</th>\n      <th>pressure</th>\n      <th>tempC</th>\n      <th>visibility</th>\n      <th>winddirDegree</th>\n      <th>windspeedKmph</th>\n      <th>AQI</th>\n      <th>AQI_Explained</th>\n    </tr>\n  </thead>\n  <tbody>\n    <tr>\n      <th>0</th>\n      <td>2014-01-01</td>\n      <td>15.0</td>\n      <td>5.0</td>\n      <td>0.0</td>\n      <td>8.7</td>\n      <td>4.0</td>\n      <td>0.0</td>\n      <td>-1.0</td>\n      <td>11.0</td>\n      <td>12.0</td>\n      <td>...</td>\n      <td>0.0</td>\n      <td>43.0</td>\n      <td>0.0</td>\n      <td>1021.0</td>\n      <td>15.0</td>\n      <td>10.0</td>\n      <td>242.0</td>\n      <td>12.0</td>\n      <td>319.0</td>\n      <td>Hazardous</td>\n    </tr>\n    <tr>\n      <th>1</th>\n      <td>2014-01-02</td>\n      <td>14.0</td>\n      <td>7.0</td>\n      <td>0.0</td>\n      <td>8.7</td>\n      <td>4.0</td>\n      <td>2.0</td>\n      <td>4.0</td>\n      <td>11.0</td>\n      <td>13.0</td>\n      <td>...</td>\n      <td>3.0</td>\n      <td>60.0</td>\n      <td>0.0</td>\n      <td>1019.0</td>\n      <td>14.0</td>\n      <td>10.0</td>\n      <td>141.0</td>\n      <td>14.0</td>\n      <td>352.0</td>\n      <td>Hazardous</td>\n    </tr>\n    <tr>\n      <th>2</th>\n      <td>2014-01-03</td>\n      <td>16.0</td>\n      <td>9.0</td>\n      <td>0.0</td>\n      <td>8.7</td>\n      <td>4.0</td>\n      <td>10.0</td>\n      <td>3.0</td>\n      <td>11.0</td>\n      <td>12.0</td>\n      <td>...</td>\n      <td>26.0</td>\n      <td>55.0</td>\n      <td>0.0</td>\n      <td>1017.0</td>\n      <td>16.0</td>\n      <td>10.0</td>\n      <td>295.0</td>\n      <td>14.0</td>\n      <td>338.0</td>\n      <td>Hazardous</td>\n    </tr>\n    <tr>\n      <th>3</th>\n      <td>2014-01-04</td>\n      <td>10.0</td>\n      <td>4.0</td>\n      <td>0.0</td>\n      <td>5.5</td>\n      <td>2.0</td>\n      <td>17.0</td>\n      <td>3.0</td>\n      <td>7.0</td>\n      <td>9.0</td>\n      <td>...</td>\n      <td>24.0</td>\n      <td>68.0</td>\n      <td>0.1</td>\n      <td>1022.0</td>\n      <td>10.0</td>\n      <td>10.0</td>\n      <td>169.0</td>\n      <td>14.0</td>\n      <td>355.0</td>\n      <td>Hazardous</td>\n    </tr>\n    <tr>\n      <th>4</th>\n      <td>2014-01-05</td>\n      <td>10.0</td>\n      <td>3.0</td>\n      <td>0.0</td>\n      <td>8.7</td>\n      <td>3.0</td>\n      <td>24.0</td>\n      <td>3.0</td>\n      <td>9.0</td>\n      <td>9.0</td>\n      <td>...</td>\n      <td>12.0</td>\n      <td>66.0</td>\n      <td>0.0</td>\n      <td>1024.0</td>\n      <td>10.0</td>\n      <td>10.0</td>\n      <td>117.0</td>\n      <td>6.0</td>\n      <td>343.0</td>\n      <td>Hazardous</td>\n    </tr>\n    <tr>\n      <th>...</th>\n      <td>...</td>\n      <td>...</td>\n      <td>...</td>\n      <td>...</td>\n      <td>...</td>\n      <td>...</td>\n      <td>...</td>\n      <td>...</td>\n      <td>...</td>\n      <td>...</td>\n      <td>...</td>\n      <td>...</td>\n      <td>...</td>\n      <td>...</td>\n      <td>...</td>\n      <td>...</td>\n      <td>...</td>\n      <td>...</td>\n      <td>...</td>\n      <td>...</td>\n      <td>...</td>\n    </tr>\n    <tr>\n      <th>2497</th>\n      <td>2021-01-26</td>\n      <td>12.0</td>\n      <td>10.0</td>\n      <td>0.0</td>\n      <td>4.0</td>\n      <td>3.0</td>\n      <td>88.0</td>\n      <td>7.0</td>\n      <td>10.0</td>\n      <td>11.0</td>\n      <td>...</td>\n      <td>91.0</td>\n      <td>77.0</td>\n      <td>1.1</td>\n      <td>1023.0</td>\n      <td>12.0</td>\n      <td>8.0</td>\n      <td>233.0</td>\n      <td>9.0</td>\n      <td>229.0</td>\n      <td>Very unhealthy</td>\n    </tr>\n    <tr>\n      <th>2498</th>\n      <td>2021-01-27</td>\n      <td>11.0</td>\n      <td>7.0</td>\n      <td>0.0</td>\n      <td>8.7</td>\n      <td>2.0</td>\n      <td>96.0</td>\n      <td>4.0</td>\n      <td>7.0</td>\n      <td>9.0</td>\n      <td>...</td>\n      <td>55.0</td>\n      <td>72.0</td>\n      <td>0.0</td>\n      <td>1024.0</td>\n      <td>11.0</td>\n      <td>10.0</td>\n      <td>49.0</td>\n      <td>11.0</td>\n      <td>200.0</td>\n      <td>Unhealthy</td>\n    </tr>\n    <tr>\n      <th>2499</th>\n      <td>2021-01-28</td>\n      <td>10.0</td>\n      <td>4.0</td>\n      <td>0.0</td>\n      <td>8.7</td>\n      <td>3.0</td>\n      <td>100.0</td>\n      <td>-5.0</td>\n      <td>5.0</td>\n      <td>8.0</td>\n      <td>...</td>\n      <td>16.0</td>\n      <td>44.0</td>\n      <td>0.0</td>\n      <td>1028.0</td>\n      <td>10.0</td>\n      <td>10.0</td>\n      <td>291.0</td>\n      <td>19.0</td>\n      <td>309.0</td>\n      <td>Hazardous</td>\n    </tr>\n    <tr>\n      <th>2500</th>\n      <td>2021-01-29</td>\n      <td>9.0</td>\n      <td>6.0</td>\n      <td>0.0</td>\n      <td>8.7</td>\n      <td>3.0</td>\n      <td>90.0</td>\n      <td>-9.0</td>\n      <td>5.0</td>\n      <td>7.0</td>\n      <td>...</td>\n      <td>0.0</td>\n      <td>32.0</td>\n      <td>0.0</td>\n      <td>1030.0</td>\n      <td>9.0</td>\n      <td>10.0</td>\n      <td>188.0</td>\n      <td>10.0</td>\n      <td>320.0</td>\n      <td>Hazardous</td>\n    </tr>\n    <tr>\n      <th>2501</th>\n      <td>2021-01-30</td>\n      <td>13.0</td>\n      <td>5.0</td>\n      <td>0.0</td>\n      <td>8.7</td>\n      <td>4.0</td>\n      <td>82.0</td>\n      <td>0.0</td>\n      <td>8.0</td>\n      <td>9.0</td>\n      <td>...</td>\n      <td>5.0</td>\n      <td>56.0</td>\n      <td>0.0</td>\n      <td>1027.0</td>\n      <td>13.0</td>\n      <td>10.0</td>\n      <td>159.0</td>\n      <td>10.0</td>\n      <td>162.0</td>\n      <td>Unhealthy</td>\n    </tr>\n  </tbody>\n</table>\n<p>2502 rows × 22 columns</p>\n</div>"
     },
     "execution_count": 62,
     "metadata": {},
     "output_type": "execute_result"
    }
   ],
   "source": [
    "df_raw"
   ],
   "metadata": {
    "collapsed": false
   }
  },
  {
   "cell_type": "markdown",
   "source": [
    "## task definition\n",
    "given weather data, predict AQI"
   ],
   "metadata": {
    "collapsed": false
   }
  },
  {
   "cell_type": "markdown",
   "source": [
    "## build complex features:\n",
    "1. time window(temp)\n",
    "+ past 1-day avg/high\n",
    "+ past 3 days avg/high\n",
    "+ past 7 days avg/high"
   ],
   "metadata": {
    "collapsed": false
   }
  },
  {
   "cell_type": "code",
   "execution_count": 63,
   "outputs": [],
   "source": [
    "DEFAULT_FEATURE_VALUE = -999.0"
   ],
   "metadata": {
    "collapsed": false
   }
  },
  {
   "cell_type": "markdown",
   "source": [
    "build time window features"
   ],
   "metadata": {
    "collapsed": false
   }
  },
  {
   "cell_type": "code",
   "execution_count": 64,
   "outputs": [
    {
     "data": {
      "text/plain": "<LAMBDA> DONE:   0%|          | 0/2502 [00:00<?, ?it/s]",
      "application/vnd.jupyter.widget-view+json": {
       "version_major": 2,
       "version_minor": 0,
       "model_id": "033a2d93787d4cb5839a3270c8adce1d"
      }
     },
     "metadata": {},
     "output_type": "display_data"
    }
   ],
   "source": [
    "df_raw['tempC_avg_today'] = df_raw.p_apply(lambda l: (l.maxtempC - l.mintempC) / 2, axis=1)"
   ],
   "metadata": {
    "collapsed": false
   }
  },
  {
   "cell_type": "code",
   "execution_count": 65,
   "outputs": [],
   "source": [
    "def set_time_window_avg_feature(df, time_window: int, window_col_name: str, base_col_name: str):\n",
    "    df[window_col_name] = DEFAULT_FEATURE_VALUE  # initialize\n",
    "    for i in range(time_window, len(df)):\n",
    "        df.at[i, window_col_name] = sum(df[base_col_name].iloc[i - time_window:i].tolist()) / time_window\n",
    "    return df\n",
    "\n",
    "\n",
    "def set_time_window_feature(df, time_window: int, window_col_name: str, base_col_name: str):\n",
    "    df[window_col_name] = DEFAULT_FEATURE_VALUE  # initialize\n",
    "    for i in range(time_window, len(df)):\n",
    "        df.at[i, window_col_name] = df[base_col_name].iloc[i - time_window]\n",
    "    return df"
   ],
   "metadata": {
    "collapsed": false
   }
  },
  {
   "cell_type": "markdown",
   "source": [
    "avg temperature"
   ],
   "metadata": {
    "collapsed": false
   }
  },
  {
   "cell_type": "code",
   "execution_count": 66,
   "outputs": [],
   "source": [
    "df_raw = set_time_window_avg_feature(df_raw, 1, 'tempC_avg_1days', 'tempC_avg_today')\n",
    "df_raw = set_time_window_avg_feature(df_raw, 3, 'tempC_avg_3days', 'tempC_avg_today')\n",
    "df_raw = set_time_window_avg_feature(df_raw, 7, 'tempC_avg_7days', 'tempC_avg_today')"
   ],
   "metadata": {
    "collapsed": false
   }
  },
  {
   "cell_type": "markdown",
   "source": [
    "high temperature"
   ],
   "metadata": {
    "collapsed": false
   }
  },
  {
   "cell_type": "code",
   "execution_count": 67,
   "outputs": [],
   "source": [
    "df_raw = set_time_window_feature(df_raw, 1, 'tempC_high_1days', 'maxtempC')\n",
    "df_raw = set_time_window_feature(df_raw, 3, 'tempC_high_3days', 'maxtempC')\n",
    "df_raw = set_time_window_feature(df_raw, 7, 'tempC_high_7days', 'maxtempC')"
   ],
   "metadata": {
    "collapsed": false
   }
  },
  {
   "cell_type": "markdown",
   "source": [
    "low temperature"
   ],
   "metadata": {
    "collapsed": false
   }
  },
  {
   "cell_type": "code",
   "execution_count": 68,
   "outputs": [],
   "source": [
    "df_raw = set_time_window_feature(df_raw, 1, 'tempC_low_1days', 'mintempC')\n",
    "df_raw = set_time_window_feature(df_raw, 3, 'tempC_low_3days', 'mintempC')\n",
    "df_raw = set_time_window_feature(df_raw, 7, 'tempC_low_7days', 'mintempC')"
   ],
   "metadata": {
    "collapsed": false
   }
  },
  {
   "cell_type": "markdown",
   "source": [
    "2. time feature\n",
    "+ month"
   ],
   "metadata": {
    "collapsed": false
   }
  },
  {
   "cell_type": "code",
   "execution_count": 69,
   "outputs": [
    {
     "data": {
      "text/plain": "<LAMBDA> DONE:   0%|          | 0/2502 [00:00<?, ?it/s]",
      "application/vnd.jupyter.widget-view+json": {
       "version_major": 2,
       "version_minor": 0,
       "model_id": "26938d826fb7474c9eeffd78b77149fb"
      }
     },
     "metadata": {},
     "output_type": "display_data"
    }
   ],
   "source": [
    "df_raw['month'] = df_raw.p_apply(lambda l: int(l.date[5:7]), axis=1)"
   ],
   "metadata": {
    "collapsed": false
   }
  },
  {
   "cell_type": "code",
   "execution_count": 70,
   "outputs": [],
   "source": [
    "df_raw = df_raw[6:]"
   ],
   "metadata": {
    "collapsed": false
   }
  },
  {
   "cell_type": "markdown",
   "source": [
    "## filter feature"
   ],
   "metadata": {
    "collapsed": false
   }
  },
  {
   "cell_type": "code",
   "execution_count": 71,
   "outputs": [
    {
     "name": "stdout",
     "output_type": "stream",
     "text": [
      "<class 'pandas.core.frame.DataFrame'>\n",
      "RangeIndex: 2496 entries, 6 to 2501\n",
      "Data columns (total 33 columns):\n",
      " #   Column             Non-Null Count  Dtype  \n",
      "---  ------             --------------  -----  \n",
      " 0   date               2496 non-null   object \n",
      " 1   maxtempC           2496 non-null   float64\n",
      " 2   mintempC           2496 non-null   float64\n",
      " 3   totalSnow_cm       2496 non-null   float64\n",
      " 4   sunHour            2496 non-null   float64\n",
      " 5   uvIndex            2496 non-null   float64\n",
      " 6   moon_illumination  2496 non-null   float64\n",
      " 7   DewPointC          2496 non-null   float64\n",
      " 8   FeelsLikeC         2496 non-null   float64\n",
      " 9   HeatIndexC         2496 non-null   float64\n",
      " 10  WindChillC         2496 non-null   float64\n",
      " 11  WindGustKmph       2496 non-null   float64\n",
      " 12  cloudcover         2496 non-null   float64\n",
      " 13  humidity           2496 non-null   float64\n",
      " 14  precipMM           2496 non-null   float64\n",
      " 15  pressure           2496 non-null   float64\n",
      " 16  tempC              2496 non-null   float64\n",
      " 17  visibility         2496 non-null   float64\n",
      " 18  winddirDegree      2496 non-null   float64\n",
      " 19  windspeedKmph      2496 non-null   float64\n",
      " 20  AQI                2496 non-null   float64\n",
      " 21  AQI_Explained      2496 non-null   object \n",
      " 22  tempC_avg_today    2496 non-null   float64\n",
      " 23  tempC_avg_1days    2496 non-null   float64\n",
      " 24  tempC_avg_3days    2496 non-null   float64\n",
      " 25  tempC_avg_7days    2496 non-null   float64\n",
      " 26  tempC_high_1days   2496 non-null   float64\n",
      " 27  tempC_high_3days   2496 non-null   float64\n",
      " 28  tempC_high_7days   2496 non-null   float64\n",
      " 29  tempC_low_1days    2496 non-null   float64\n",
      " 30  tempC_low_3days    2496 non-null   float64\n",
      " 31  tempC_low_7days    2496 non-null   float64\n",
      " 32  month              2496 non-null   int64  \n",
      "dtypes: float64(30), int64(1), object(2)\n",
      "memory usage: 643.6+ KB\n"
     ]
    }
   ],
   "source": [
    "df_raw.info()"
   ],
   "metadata": {
    "collapsed": false
   }
  },
  {
   "cell_type": "code",
   "execution_count": 72,
   "outputs": [
    {
     "name": "stderr",
     "output_type": "stream",
     "text": [
      "C:\\Users\\fyk12\\AppData\\Local\\Temp\\ipykernel_14412\\374109260.py:1: SettingWithCopyWarning: \n",
      "A value is trying to be set on a copy of a slice from a DataFrame\n",
      "\n",
      "See the caveats in the documentation: https://pandas.pydata.org/pandas-docs/stable/user_guide/indexing.html#returning-a-view-versus-a-copy\n",
      "  df_raw.drop(['date','AQI_Explained'],inplace=True,axis=1)\n"
     ]
    }
   ],
   "source": [
    "df_raw.drop(['date','AQI_Explained'],inplace=True,axis=1)"
   ],
   "metadata": {
    "collapsed": false
   }
  },
  {
   "cell_type": "code",
   "execution_count": 73,
   "outputs": [
    {
     "data": {
      "text/plain": "      maxtempC  mintempC  totalSnow_cm  sunHour  uvIndex  moon_illumination  \\\n6         12.0       9.0           0.0      5.5      3.0               39.0   \n7          9.0       4.0           0.0      4.0      2.0               46.0   \n8          5.0       2.0           0.0      8.7      2.0               53.0   \n9          7.0       1.0           0.0      8.7      2.0               61.0   \n10         7.0       5.0           0.0      4.0      2.0               68.0   \n...        ...       ...           ...      ...      ...                ...   \n2497      12.0      10.0           0.0      4.0      3.0               88.0   \n2498      11.0       7.0           0.0      8.7      2.0               96.0   \n2499      10.0       4.0           0.0      8.7      3.0              100.0   \n2500       9.0       6.0           0.0      8.7      3.0               90.0   \n2501      13.0       5.0           0.0      8.7      4.0               82.0   \n\n      DewPointC  FeelsLikeC  HeatIndexC  WindChillC  ...  tempC_avg_1days  \\\n6           8.0         8.0        10.0         8.0  ...              3.0   \n7           5.0         4.0         8.0         4.0  ...              1.5   \n8          -2.0         1.0         4.0         1.0  ...              2.5   \n9           0.0         4.0         6.0         4.0  ...              1.5   \n10          3.0         3.0         6.0         3.0  ...              3.0   \n...         ...         ...         ...         ...  ...              ...   \n2497        7.0        10.0        11.0        10.0  ...              2.5   \n2498        4.0         7.0         9.0         7.0  ...              1.0   \n2499       -5.0         5.0         8.0         5.0  ...              2.0   \n2500       -9.0         5.0         7.0         5.0  ...              3.0   \n2501        0.0         8.0         9.0         8.0  ...              1.5   \n\n      tempC_avg_3days  tempC_avg_7days  tempC_high_1days  tempC_high_3days  \\\n6            3.166667      -999.000000              11.0              10.0   \n7            2.666667         3.285714              12.0              10.0   \n8            2.333333         2.928571               9.0              11.0   \n9            1.833333         2.642857               5.0              12.0   \n10           2.333333         2.571429               7.0               9.0   \n...               ...              ...               ...               ...   \n2497         2.166667         2.285714              14.0               9.0   \n2498         2.166667         2.142857              12.0              12.0   \n2499         1.833333         2.071429              11.0              14.0   \n2500         2.000000         1.928571              10.0              12.0   \n2501         2.166667         2.000000               9.0              11.0   \n\n      tempC_high_7days  tempC_low_1days  tempC_low_3days  tempC_low_7days  \\\n6               -999.0              5.0              4.0           -999.0   \n7                 15.0              9.0              3.0              5.0   \n8                 14.0              4.0              5.0              7.0   \n9                 16.0              2.0              9.0              9.0   \n10                10.0              1.0              4.0              4.0   \n...                ...              ...              ...              ...   \n2497              10.0              9.0              7.0              6.0   \n2498              14.0             10.0              6.0              9.0   \n2499              20.0              7.0              9.0             12.0   \n2500              12.0              4.0             10.0             10.0   \n2501               9.0              6.0              7.0              7.0   \n\n      month  \n6         1  \n7         1  \n8         1  \n9         1  \n10        1  \n...     ...  \n2497      1  \n2498      1  \n2499      1  \n2500      1  \n2501      1  \n\n[2496 rows x 31 columns]",
      "text/html": "<div>\n<style scoped>\n    .dataframe tbody tr th:only-of-type {\n        vertical-align: middle;\n    }\n\n    .dataframe tbody tr th {\n        vertical-align: top;\n    }\n\n    .dataframe thead th {\n        text-align: right;\n    }\n</style>\n<table border=\"1\" class=\"dataframe\">\n  <thead>\n    <tr style=\"text-align: right;\">\n      <th></th>\n      <th>maxtempC</th>\n      <th>mintempC</th>\n      <th>totalSnow_cm</th>\n      <th>sunHour</th>\n      <th>uvIndex</th>\n      <th>moon_illumination</th>\n      <th>DewPointC</th>\n      <th>FeelsLikeC</th>\n      <th>HeatIndexC</th>\n      <th>WindChillC</th>\n      <th>...</th>\n      <th>tempC_avg_1days</th>\n      <th>tempC_avg_3days</th>\n      <th>tempC_avg_7days</th>\n      <th>tempC_high_1days</th>\n      <th>tempC_high_3days</th>\n      <th>tempC_high_7days</th>\n      <th>tempC_low_1days</th>\n      <th>tempC_low_3days</th>\n      <th>tempC_low_7days</th>\n      <th>month</th>\n    </tr>\n  </thead>\n  <tbody>\n    <tr>\n      <th>6</th>\n      <td>12.0</td>\n      <td>9.0</td>\n      <td>0.0</td>\n      <td>5.5</td>\n      <td>3.0</td>\n      <td>39.0</td>\n      <td>8.0</td>\n      <td>8.0</td>\n      <td>10.0</td>\n      <td>8.0</td>\n      <td>...</td>\n      <td>3.0</td>\n      <td>3.166667</td>\n      <td>-999.000000</td>\n      <td>11.0</td>\n      <td>10.0</td>\n      <td>-999.0</td>\n      <td>5.0</td>\n      <td>4.0</td>\n      <td>-999.0</td>\n      <td>1</td>\n    </tr>\n    <tr>\n      <th>7</th>\n      <td>9.0</td>\n      <td>4.0</td>\n      <td>0.0</td>\n      <td>4.0</td>\n      <td>2.0</td>\n      <td>46.0</td>\n      <td>5.0</td>\n      <td>4.0</td>\n      <td>8.0</td>\n      <td>4.0</td>\n      <td>...</td>\n      <td>1.5</td>\n      <td>2.666667</td>\n      <td>3.285714</td>\n      <td>12.0</td>\n      <td>10.0</td>\n      <td>15.0</td>\n      <td>9.0</td>\n      <td>3.0</td>\n      <td>5.0</td>\n      <td>1</td>\n    </tr>\n    <tr>\n      <th>8</th>\n      <td>5.0</td>\n      <td>2.0</td>\n      <td>0.0</td>\n      <td>8.7</td>\n      <td>2.0</td>\n      <td>53.0</td>\n      <td>-2.0</td>\n      <td>1.0</td>\n      <td>4.0</td>\n      <td>1.0</td>\n      <td>...</td>\n      <td>2.5</td>\n      <td>2.333333</td>\n      <td>2.928571</td>\n      <td>9.0</td>\n      <td>11.0</td>\n      <td>14.0</td>\n      <td>4.0</td>\n      <td>5.0</td>\n      <td>7.0</td>\n      <td>1</td>\n    </tr>\n    <tr>\n      <th>9</th>\n      <td>7.0</td>\n      <td>1.0</td>\n      <td>0.0</td>\n      <td>8.7</td>\n      <td>2.0</td>\n      <td>61.0</td>\n      <td>0.0</td>\n      <td>4.0</td>\n      <td>6.0</td>\n      <td>4.0</td>\n      <td>...</td>\n      <td>1.5</td>\n      <td>1.833333</td>\n      <td>2.642857</td>\n      <td>5.0</td>\n      <td>12.0</td>\n      <td>16.0</td>\n      <td>2.0</td>\n      <td>9.0</td>\n      <td>9.0</td>\n      <td>1</td>\n    </tr>\n    <tr>\n      <th>10</th>\n      <td>7.0</td>\n      <td>5.0</td>\n      <td>0.0</td>\n      <td>4.0</td>\n      <td>2.0</td>\n      <td>68.0</td>\n      <td>3.0</td>\n      <td>3.0</td>\n      <td>6.0</td>\n      <td>3.0</td>\n      <td>...</td>\n      <td>3.0</td>\n      <td>2.333333</td>\n      <td>2.571429</td>\n      <td>7.0</td>\n      <td>9.0</td>\n      <td>10.0</td>\n      <td>1.0</td>\n      <td>4.0</td>\n      <td>4.0</td>\n      <td>1</td>\n    </tr>\n    <tr>\n      <th>...</th>\n      <td>...</td>\n      <td>...</td>\n      <td>...</td>\n      <td>...</td>\n      <td>...</td>\n      <td>...</td>\n      <td>...</td>\n      <td>...</td>\n      <td>...</td>\n      <td>...</td>\n      <td>...</td>\n      <td>...</td>\n      <td>...</td>\n      <td>...</td>\n      <td>...</td>\n      <td>...</td>\n      <td>...</td>\n      <td>...</td>\n      <td>...</td>\n      <td>...</td>\n      <td>...</td>\n    </tr>\n    <tr>\n      <th>2497</th>\n      <td>12.0</td>\n      <td>10.0</td>\n      <td>0.0</td>\n      <td>4.0</td>\n      <td>3.0</td>\n      <td>88.0</td>\n      <td>7.0</td>\n      <td>10.0</td>\n      <td>11.0</td>\n      <td>10.0</td>\n      <td>...</td>\n      <td>2.5</td>\n      <td>2.166667</td>\n      <td>2.285714</td>\n      <td>14.0</td>\n      <td>9.0</td>\n      <td>10.0</td>\n      <td>9.0</td>\n      <td>7.0</td>\n      <td>6.0</td>\n      <td>1</td>\n    </tr>\n    <tr>\n      <th>2498</th>\n      <td>11.0</td>\n      <td>7.0</td>\n      <td>0.0</td>\n      <td>8.7</td>\n      <td>2.0</td>\n      <td>96.0</td>\n      <td>4.0</td>\n      <td>7.0</td>\n      <td>9.0</td>\n      <td>7.0</td>\n      <td>...</td>\n      <td>1.0</td>\n      <td>2.166667</td>\n      <td>2.142857</td>\n      <td>12.0</td>\n      <td>12.0</td>\n      <td>14.0</td>\n      <td>10.0</td>\n      <td>6.0</td>\n      <td>9.0</td>\n      <td>1</td>\n    </tr>\n    <tr>\n      <th>2499</th>\n      <td>10.0</td>\n      <td>4.0</td>\n      <td>0.0</td>\n      <td>8.7</td>\n      <td>3.0</td>\n      <td>100.0</td>\n      <td>-5.0</td>\n      <td>5.0</td>\n      <td>8.0</td>\n      <td>5.0</td>\n      <td>...</td>\n      <td>2.0</td>\n      <td>1.833333</td>\n      <td>2.071429</td>\n      <td>11.0</td>\n      <td>14.0</td>\n      <td>20.0</td>\n      <td>7.0</td>\n      <td>9.0</td>\n      <td>12.0</td>\n      <td>1</td>\n    </tr>\n    <tr>\n      <th>2500</th>\n      <td>9.0</td>\n      <td>6.0</td>\n      <td>0.0</td>\n      <td>8.7</td>\n      <td>3.0</td>\n      <td>90.0</td>\n      <td>-9.0</td>\n      <td>5.0</td>\n      <td>7.0</td>\n      <td>5.0</td>\n      <td>...</td>\n      <td>3.0</td>\n      <td>2.000000</td>\n      <td>1.928571</td>\n      <td>10.0</td>\n      <td>12.0</td>\n      <td>12.0</td>\n      <td>4.0</td>\n      <td>10.0</td>\n      <td>10.0</td>\n      <td>1</td>\n    </tr>\n    <tr>\n      <th>2501</th>\n      <td>13.0</td>\n      <td>5.0</td>\n      <td>0.0</td>\n      <td>8.7</td>\n      <td>4.0</td>\n      <td>82.0</td>\n      <td>0.0</td>\n      <td>8.0</td>\n      <td>9.0</td>\n      <td>8.0</td>\n      <td>...</td>\n      <td>1.5</td>\n      <td>2.166667</td>\n      <td>2.000000</td>\n      <td>9.0</td>\n      <td>11.0</td>\n      <td>9.0</td>\n      <td>6.0</td>\n      <td>7.0</td>\n      <td>7.0</td>\n      <td>1</td>\n    </tr>\n  </tbody>\n</table>\n<p>2496 rows × 31 columns</p>\n</div>"
     },
     "execution_count": 73,
     "metadata": {},
     "output_type": "execute_result"
    }
   ],
   "source": [
    "df_raw"
   ],
   "metadata": {
    "collapsed": false
   }
  },
  {
   "cell_type": "markdown",
   "source": [
    "## split train and test"
   ],
   "metadata": {
    "collapsed": false
   }
  },
  {
   "cell_type": "markdown",
   "source": [],
   "metadata": {
    "collapsed": false
   }
  },
  {
   "cell_type": "code",
   "execution_count": 74,
   "outputs": [],
   "source": [
    "import numpy as np"
   ],
   "metadata": {
    "collapsed": false
   }
  },
  {
   "cell_type": "code",
   "execution_count": 75,
   "outputs": [],
   "source": [
    "cap_train = int(0.8 * len(df_raw))"
   ],
   "metadata": {
    "collapsed": false
   }
  },
  {
   "cell_type": "code",
   "execution_count": 76,
   "outputs": [],
   "source": [
    "df_train = df_raw[:cap_train]\n",
    "df_test = df_raw[cap_train:]"
   ],
   "metadata": {
    "collapsed": false
   }
  },
  {
   "cell_type": "code",
   "execution_count": 77,
   "outputs": [],
   "source": [
    "train_x = np.array(df_train.drop(['AQI'],axis=1))\n",
    "train_y = np.array(df_train[\"AQI\"])"
   ],
   "metadata": {
    "collapsed": false
   }
  },
  {
   "cell_type": "code",
   "execution_count": 78,
   "outputs": [],
   "source": [
    "test_x = np.array(df_test.drop(['AQI'],axis=1))\n",
    "test_y = np.array(df_test[\"AQI\"])"
   ],
   "metadata": {
    "collapsed": false
   }
  },
  {
   "cell_type": "markdown",
   "source": [
    "# modeling"
   ],
   "metadata": {
    "collapsed": false
   }
  },
  {
   "cell_type": "code",
   "execution_count": 79,
   "outputs": [],
   "source": [
    "from lightgbm import LGBMRegressor"
   ],
   "metadata": {
    "collapsed": false
   }
  },
  {
   "cell_type": "code",
   "execution_count": 98,
   "outputs": [
    {
     "data": {
      "text/plain": "LGBMRegressor(num_leaves=1023)",
      "text/html": "<style>#sk-container-id-8 {color: black;background-color: white;}#sk-container-id-8 pre{padding: 0;}#sk-container-id-8 div.sk-toggleable {background-color: white;}#sk-container-id-8 label.sk-toggleable__label {cursor: pointer;display: block;width: 100%;margin-bottom: 0;padding: 0.3em;box-sizing: border-box;text-align: center;}#sk-container-id-8 label.sk-toggleable__label-arrow:before {content: \"▸\";float: left;margin-right: 0.25em;color: #696969;}#sk-container-id-8 label.sk-toggleable__label-arrow:hover:before {color: black;}#sk-container-id-8 div.sk-estimator:hover label.sk-toggleable__label-arrow:before {color: black;}#sk-container-id-8 div.sk-toggleable__content {max-height: 0;max-width: 0;overflow: hidden;text-align: left;background-color: #f0f8ff;}#sk-container-id-8 div.sk-toggleable__content pre {margin: 0.2em;color: black;border-radius: 0.25em;background-color: #f0f8ff;}#sk-container-id-8 input.sk-toggleable__control:checked~div.sk-toggleable__content {max-height: 200px;max-width: 100%;overflow: auto;}#sk-container-id-8 input.sk-toggleable__control:checked~label.sk-toggleable__label-arrow:before {content: \"▾\";}#sk-container-id-8 div.sk-estimator input.sk-toggleable__control:checked~label.sk-toggleable__label {background-color: #d4ebff;}#sk-container-id-8 div.sk-label input.sk-toggleable__control:checked~label.sk-toggleable__label {background-color: #d4ebff;}#sk-container-id-8 input.sk-hidden--visually {border: 0;clip: rect(1px 1px 1px 1px);clip: rect(1px, 1px, 1px, 1px);height: 1px;margin: -1px;overflow: hidden;padding: 0;position: absolute;width: 1px;}#sk-container-id-8 div.sk-estimator {font-family: monospace;background-color: #f0f8ff;border: 1px dotted black;border-radius: 0.25em;box-sizing: border-box;margin-bottom: 0.5em;}#sk-container-id-8 div.sk-estimator:hover {background-color: #d4ebff;}#sk-container-id-8 div.sk-parallel-item::after {content: \"\";width: 100%;border-bottom: 1px solid gray;flex-grow: 1;}#sk-container-id-8 div.sk-label:hover label.sk-toggleable__label {background-color: #d4ebff;}#sk-container-id-8 div.sk-serial::before {content: \"\";position: absolute;border-left: 1px solid gray;box-sizing: border-box;top: 0;bottom: 0;left: 50%;z-index: 0;}#sk-container-id-8 div.sk-serial {display: flex;flex-direction: column;align-items: center;background-color: white;padding-right: 0.2em;padding-left: 0.2em;position: relative;}#sk-container-id-8 div.sk-item {position: relative;z-index: 1;}#sk-container-id-8 div.sk-parallel {display: flex;align-items: stretch;justify-content: center;background-color: white;position: relative;}#sk-container-id-8 div.sk-item::before, #sk-container-id-8 div.sk-parallel-item::before {content: \"\";position: absolute;border-left: 1px solid gray;box-sizing: border-box;top: 0;bottom: 0;left: 50%;z-index: -1;}#sk-container-id-8 div.sk-parallel-item {display: flex;flex-direction: column;z-index: 1;position: relative;background-color: white;}#sk-container-id-8 div.sk-parallel-item:first-child::after {align-self: flex-end;width: 50%;}#sk-container-id-8 div.sk-parallel-item:last-child::after {align-self: flex-start;width: 50%;}#sk-container-id-8 div.sk-parallel-item:only-child::after {width: 0;}#sk-container-id-8 div.sk-dashed-wrapped {border: 1px dashed gray;margin: 0 0.4em 0.5em 0.4em;box-sizing: border-box;padding-bottom: 0.4em;background-color: white;}#sk-container-id-8 div.sk-label label {font-family: monospace;font-weight: bold;display: inline-block;line-height: 1.2em;}#sk-container-id-8 div.sk-label-container {text-align: center;}#sk-container-id-8 div.sk-container {/* jupyter's `normalize.less` sets `[hidden] { display: none; }` but bootstrap.min.css set `[hidden] { display: none !important; }` so we also need the `!important` here to be able to override the default hidden behavior on the sphinx rendered scikit-learn.org. See: https://github.com/scikit-learn/scikit-learn/issues/21755 */display: inline-block !important;position: relative;}#sk-container-id-8 div.sk-text-repr-fallback {display: none;}</style><div id=\"sk-container-id-8\" class=\"sk-top-container\"><div class=\"sk-text-repr-fallback\"><pre>LGBMRegressor(num_leaves=1023)</pre><b>In a Jupyter environment, please rerun this cell to show the HTML representation or trust the notebook. <br />On GitHub, the HTML representation is unable to render, please try loading this page with nbviewer.org.</b></div><div class=\"sk-container\" hidden><div class=\"sk-item\"><div class=\"sk-estimator sk-toggleable\"><input class=\"sk-toggleable__control sk-hidden--visually\" id=\"sk-estimator-id-8\" type=\"checkbox\" checked><label for=\"sk-estimator-id-8\" class=\"sk-toggleable__label sk-toggleable__label-arrow\">LGBMRegressor</label><div class=\"sk-toggleable__content\"><pre>LGBMRegressor(num_leaves=1023)</pre></div></div></div></div></div>"
     },
     "execution_count": 98,
     "metadata": {},
     "output_type": "execute_result"
    }
   ],
   "source": [
    "model = LGBMRegressor(num_leaves=2**10-1)\n",
    "model.fit(train_x, train_y)"
   ],
   "metadata": {
    "collapsed": false
   }
  },
  {
   "cell_type": "code",
   "execution_count": 99,
   "outputs": [],
   "source": [
    "out = model.predict(test_x)"
   ],
   "metadata": {
    "collapsed": false
   }
  },
  {
   "cell_type": "code",
   "execution_count": 100,
   "outputs": [
    {
     "data": {
      "text/plain": "60.200419424751146"
     },
     "execution_count": 100,
     "metadata": {},
     "output_type": "execute_result"
    }
   ],
   "source": [
    "abs(test_y - out).mean()"
   ],
   "metadata": {
    "collapsed": false
   }
  }
 ],
 "metadata": {
  "kernelspec": {
   "display_name": "Python 3",
   "language": "python",
   "name": "python3"
  },
  "language_info": {
   "codemirror_mode": {
    "name": "ipython",
    "version": 2
   },
   "file_extension": ".py",
   "mimetype": "text/x-python",
   "name": "python",
   "nbconvert_exporter": "python",
   "pygments_lexer": "ipython2",
   "version": "2.7.6"
  }
 },
 "nbformat": 4,
 "nbformat_minor": 0
}
