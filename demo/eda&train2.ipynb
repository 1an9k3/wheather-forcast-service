{
 "cells": [
  {
   "cell_type": "markdown",
   "source": [
    "# Shanghai Weather Dataset"
   ],
   "metadata": {
    "collapsed": false
   }
  },
  {
   "cell_type": "markdown",
   "source": [
    "## load full dataset"
   ],
   "metadata": {
    "collapsed": false
   }
  },
  {
   "cell_type": "code",
   "execution_count": 1,
   "outputs": [],
   "source": [
    "import pandas as pd\n",
    "from parallel_pandas import ParallelPandas\n",
    "\n",
    "ParallelPandas.initialize()"
   ],
   "metadata": {
    "collapsed": false
   }
  },
  {
   "cell_type": "code",
   "execution_count": 2,
   "outputs": [],
   "source": [
    "df_raw = pd.read_csv('archive/Shanghai AQI and Wheather 2014-2021.csv')"
   ],
   "metadata": {
    "collapsed": false
   }
  },
  {
   "cell_type": "code",
   "execution_count": 3,
   "outputs": [
    {
     "data": {
      "text/plain": "            date  maxtempC  mintempC  totalSnow_cm  sunHour  uvIndex  \\\n0     2014-01-01      15.0       5.0           0.0      8.7      4.0   \n1     2014-01-02      14.0       7.0           0.0      8.7      4.0   \n2     2014-01-03      16.0       9.0           0.0      8.7      4.0   \n3     2014-01-04      10.0       4.0           0.0      5.5      2.0   \n4     2014-01-05      10.0       3.0           0.0      8.7      3.0   \n...          ...       ...       ...           ...      ...      ...   \n2497  2021-01-26      12.0      10.0           0.0      4.0      3.0   \n2498  2021-01-27      11.0       7.0           0.0      8.7      2.0   \n2499  2021-01-28      10.0       4.0           0.0      8.7      3.0   \n2500  2021-01-29       9.0       6.0           0.0      8.7      3.0   \n2501  2021-01-30      13.0       5.0           0.0      8.7      4.0   \n\n      moon_illumination  DewPointC  FeelsLikeC  HeatIndexC  ...  cloudcover  \\\n0                   0.0       -1.0        11.0        12.0  ...         0.0   \n1                   2.0        4.0        11.0        13.0  ...         3.0   \n2                  10.0        3.0        11.0        12.0  ...        26.0   \n3                  17.0        3.0         7.0         9.0  ...        24.0   \n4                  24.0        3.0         9.0         9.0  ...        12.0   \n...                 ...        ...         ...         ...  ...         ...   \n2497               88.0        7.0        10.0        11.0  ...        91.0   \n2498               96.0        4.0         7.0         9.0  ...        55.0   \n2499              100.0       -5.0         5.0         8.0  ...        16.0   \n2500               90.0       -9.0         5.0         7.0  ...         0.0   \n2501               82.0        0.0         8.0         9.0  ...         5.0   \n\n      humidity  precipMM  pressure  tempC  visibility  winddirDegree  \\\n0         43.0       0.0    1021.0   15.0        10.0          242.0   \n1         60.0       0.0    1019.0   14.0        10.0          141.0   \n2         55.0       0.0    1017.0   16.0        10.0          295.0   \n3         68.0       0.1    1022.0   10.0        10.0          169.0   \n4         66.0       0.0    1024.0   10.0        10.0          117.0   \n...        ...       ...       ...    ...         ...            ...   \n2497      77.0       1.1    1023.0   12.0         8.0          233.0   \n2498      72.0       0.0    1024.0   11.0        10.0           49.0   \n2499      44.0       0.0    1028.0   10.0        10.0          291.0   \n2500      32.0       0.0    1030.0    9.0        10.0          188.0   \n2501      56.0       0.0    1027.0   13.0        10.0          159.0   \n\n      windspeedKmph    AQI   AQI_Explained  \n0              12.0  319.0       Hazardous  \n1              14.0  352.0       Hazardous  \n2              14.0  338.0       Hazardous  \n3              14.0  355.0       Hazardous  \n4               6.0  343.0       Hazardous  \n...             ...    ...             ...  \n2497            9.0  229.0  Very unhealthy  \n2498           11.0  200.0       Unhealthy  \n2499           19.0  309.0       Hazardous  \n2500           10.0  320.0       Hazardous  \n2501           10.0  162.0       Unhealthy  \n\n[2502 rows x 22 columns]",
      "text/html": "<div>\n<style scoped>\n    .dataframe tbody tr th:only-of-type {\n        vertical-align: middle;\n    }\n\n    .dataframe tbody tr th {\n        vertical-align: top;\n    }\n\n    .dataframe thead th {\n        text-align: right;\n    }\n</style>\n<table border=\"1\" class=\"dataframe\">\n  <thead>\n    <tr style=\"text-align: right;\">\n      <th></th>\n      <th>date</th>\n      <th>maxtempC</th>\n      <th>mintempC</th>\n      <th>totalSnow_cm</th>\n      <th>sunHour</th>\n      <th>uvIndex</th>\n      <th>moon_illumination</th>\n      <th>DewPointC</th>\n      <th>FeelsLikeC</th>\n      <th>HeatIndexC</th>\n      <th>...</th>\n      <th>cloudcover</th>\n      <th>humidity</th>\n      <th>precipMM</th>\n      <th>pressure</th>\n      <th>tempC</th>\n      <th>visibility</th>\n      <th>winddirDegree</th>\n      <th>windspeedKmph</th>\n      <th>AQI</th>\n      <th>AQI_Explained</th>\n    </tr>\n  </thead>\n  <tbody>\n    <tr>\n      <th>0</th>\n      <td>2014-01-01</td>\n      <td>15.0</td>\n      <td>5.0</td>\n      <td>0.0</td>\n      <td>8.7</td>\n      <td>4.0</td>\n      <td>0.0</td>\n      <td>-1.0</td>\n      <td>11.0</td>\n      <td>12.0</td>\n      <td>...</td>\n      <td>0.0</td>\n      <td>43.0</td>\n      <td>0.0</td>\n      <td>1021.0</td>\n      <td>15.0</td>\n      <td>10.0</td>\n      <td>242.0</td>\n      <td>12.0</td>\n      <td>319.0</td>\n      <td>Hazardous</td>\n    </tr>\n    <tr>\n      <th>1</th>\n      <td>2014-01-02</td>\n      <td>14.0</td>\n      <td>7.0</td>\n      <td>0.0</td>\n      <td>8.7</td>\n      <td>4.0</td>\n      <td>2.0</td>\n      <td>4.0</td>\n      <td>11.0</td>\n      <td>13.0</td>\n      <td>...</td>\n      <td>3.0</td>\n      <td>60.0</td>\n      <td>0.0</td>\n      <td>1019.0</td>\n      <td>14.0</td>\n      <td>10.0</td>\n      <td>141.0</td>\n      <td>14.0</td>\n      <td>352.0</td>\n      <td>Hazardous</td>\n    </tr>\n    <tr>\n      <th>2</th>\n      <td>2014-01-03</td>\n      <td>16.0</td>\n      <td>9.0</td>\n      <td>0.0</td>\n      <td>8.7</td>\n      <td>4.0</td>\n      <td>10.0</td>\n      <td>3.0</td>\n      <td>11.0</td>\n      <td>12.0</td>\n      <td>...</td>\n      <td>26.0</td>\n      <td>55.0</td>\n      <td>0.0</td>\n      <td>1017.0</td>\n      <td>16.0</td>\n      <td>10.0</td>\n      <td>295.0</td>\n      <td>14.0</td>\n      <td>338.0</td>\n      <td>Hazardous</td>\n    </tr>\n    <tr>\n      <th>3</th>\n      <td>2014-01-04</td>\n      <td>10.0</td>\n      <td>4.0</td>\n      <td>0.0</td>\n      <td>5.5</td>\n      <td>2.0</td>\n      <td>17.0</td>\n      <td>3.0</td>\n      <td>7.0</td>\n      <td>9.0</td>\n      <td>...</td>\n      <td>24.0</td>\n      <td>68.0</td>\n      <td>0.1</td>\n      <td>1022.0</td>\n      <td>10.0</td>\n      <td>10.0</td>\n      <td>169.0</td>\n      <td>14.0</td>\n      <td>355.0</td>\n      <td>Hazardous</td>\n    </tr>\n    <tr>\n      <th>4</th>\n      <td>2014-01-05</td>\n      <td>10.0</td>\n      <td>3.0</td>\n      <td>0.0</td>\n      <td>8.7</td>\n      <td>3.0</td>\n      <td>24.0</td>\n      <td>3.0</td>\n      <td>9.0</td>\n      <td>9.0</td>\n      <td>...</td>\n      <td>12.0</td>\n      <td>66.0</td>\n      <td>0.0</td>\n      <td>1024.0</td>\n      <td>10.0</td>\n      <td>10.0</td>\n      <td>117.0</td>\n      <td>6.0</td>\n      <td>343.0</td>\n      <td>Hazardous</td>\n    </tr>\n    <tr>\n      <th>...</th>\n      <td>...</td>\n      <td>...</td>\n      <td>...</td>\n      <td>...</td>\n      <td>...</td>\n      <td>...</td>\n      <td>...</td>\n      <td>...</td>\n      <td>...</td>\n      <td>...</td>\n      <td>...</td>\n      <td>...</td>\n      <td>...</td>\n      <td>...</td>\n      <td>...</td>\n      <td>...</td>\n      <td>...</td>\n      <td>...</td>\n      <td>...</td>\n      <td>...</td>\n      <td>...</td>\n    </tr>\n    <tr>\n      <th>2497</th>\n      <td>2021-01-26</td>\n      <td>12.0</td>\n      <td>10.0</td>\n      <td>0.0</td>\n      <td>4.0</td>\n      <td>3.0</td>\n      <td>88.0</td>\n      <td>7.0</td>\n      <td>10.0</td>\n      <td>11.0</td>\n      <td>...</td>\n      <td>91.0</td>\n      <td>77.0</td>\n      <td>1.1</td>\n      <td>1023.0</td>\n      <td>12.0</td>\n      <td>8.0</td>\n      <td>233.0</td>\n      <td>9.0</td>\n      <td>229.0</td>\n      <td>Very unhealthy</td>\n    </tr>\n    <tr>\n      <th>2498</th>\n      <td>2021-01-27</td>\n      <td>11.0</td>\n      <td>7.0</td>\n      <td>0.0</td>\n      <td>8.7</td>\n      <td>2.0</td>\n      <td>96.0</td>\n      <td>4.0</td>\n      <td>7.0</td>\n      <td>9.0</td>\n      <td>...</td>\n      <td>55.0</td>\n      <td>72.0</td>\n      <td>0.0</td>\n      <td>1024.0</td>\n      <td>11.0</td>\n      <td>10.0</td>\n      <td>49.0</td>\n      <td>11.0</td>\n      <td>200.0</td>\n      <td>Unhealthy</td>\n    </tr>\n    <tr>\n      <th>2499</th>\n      <td>2021-01-28</td>\n      <td>10.0</td>\n      <td>4.0</td>\n      <td>0.0</td>\n      <td>8.7</td>\n      <td>3.0</td>\n      <td>100.0</td>\n      <td>-5.0</td>\n      <td>5.0</td>\n      <td>8.0</td>\n      <td>...</td>\n      <td>16.0</td>\n      <td>44.0</td>\n      <td>0.0</td>\n      <td>1028.0</td>\n      <td>10.0</td>\n      <td>10.0</td>\n      <td>291.0</td>\n      <td>19.0</td>\n      <td>309.0</td>\n      <td>Hazardous</td>\n    </tr>\n    <tr>\n      <th>2500</th>\n      <td>2021-01-29</td>\n      <td>9.0</td>\n      <td>6.0</td>\n      <td>0.0</td>\n      <td>8.7</td>\n      <td>3.0</td>\n      <td>90.0</td>\n      <td>-9.0</td>\n      <td>5.0</td>\n      <td>7.0</td>\n      <td>...</td>\n      <td>0.0</td>\n      <td>32.0</td>\n      <td>0.0</td>\n      <td>1030.0</td>\n      <td>9.0</td>\n      <td>10.0</td>\n      <td>188.0</td>\n      <td>10.0</td>\n      <td>320.0</td>\n      <td>Hazardous</td>\n    </tr>\n    <tr>\n      <th>2501</th>\n      <td>2021-01-30</td>\n      <td>13.0</td>\n      <td>5.0</td>\n      <td>0.0</td>\n      <td>8.7</td>\n      <td>4.0</td>\n      <td>82.0</td>\n      <td>0.0</td>\n      <td>8.0</td>\n      <td>9.0</td>\n      <td>...</td>\n      <td>5.0</td>\n      <td>56.0</td>\n      <td>0.0</td>\n      <td>1027.0</td>\n      <td>13.0</td>\n      <td>10.0</td>\n      <td>159.0</td>\n      <td>10.0</td>\n      <td>162.0</td>\n      <td>Unhealthy</td>\n    </tr>\n  </tbody>\n</table>\n<p>2502 rows × 22 columns</p>\n</div>"
     },
     "execution_count": 3,
     "metadata": {},
     "output_type": "execute_result"
    }
   ],
   "source": [
    "df_raw"
   ],
   "metadata": {
    "collapsed": false
   }
  },
  {
   "cell_type": "markdown",
   "source": [
    "## task definition\n",
    "given weather data, predict today's temperature(avg)"
   ],
   "metadata": {
    "collapsed": false
   }
  },
  {
   "cell_type": "markdown",
   "source": [
    "## build complex features:\n",
    "1. time window(temp)\n",
    "+ past 1-day avg/high\n",
    "+ past 3 days avg/high\n",
    "+ past 7 days avg/high"
   ],
   "metadata": {
    "collapsed": false
   }
  },
  {
   "cell_type": "code",
   "execution_count": 4,
   "outputs": [],
   "source": [
    "DEFAULT_FEATURE_VALUE = -999.0"
   ],
   "metadata": {
    "collapsed": false
   }
  },
  {
   "cell_type": "markdown",
   "source": [
    "build time window features"
   ],
   "metadata": {
    "collapsed": false
   }
  },
  {
   "cell_type": "code",
   "execution_count": 5,
   "outputs": [
    {
     "data": {
      "text/plain": "<LAMBDA> DONE:   0%|          | 0/2502 [00:00<?, ?it/s]",
      "application/vnd.jupyter.widget-view+json": {
       "version_major": 2,
       "version_minor": 0,
       "model_id": "ba39cdf9efe1432ca85e036889b7ce77"
      }
     },
     "metadata": {},
     "output_type": "display_data"
    }
   ],
   "source": [
    "df_raw['tempC_avg_today'] = df_raw.p_apply(lambda l: (l.maxtempC - l.mintempC) / 2, axis=1)"
   ],
   "metadata": {
    "collapsed": false
   }
  },
  {
   "cell_type": "code",
   "execution_count": 6,
   "outputs": [],
   "source": [
    "df_raw['temp_to_pred'] = DEFAULT_FEATURE_VALUE\n",
    "for i in range(len(df_raw) - 1):\n",
    "    df_raw.at[i, 'temp_to_pred'] = df_raw.iloc[i + 1]['tempC_avg_today']"
   ],
   "metadata": {
    "collapsed": false
   }
  },
  {
   "cell_type": "code",
   "execution_count": 7,
   "outputs": [],
   "source": [
    "def set_time_window_avg_feature(df, time_window: int, window_col_name: str, base_col_name: str):\n",
    "    df[window_col_name] = DEFAULT_FEATURE_VALUE  # initialize\n",
    "    for i in range(time_window, len(df)):\n",
    "        df.at[i, window_col_name] = sum(df[base_col_name].iloc[i - time_window:i].tolist()) / time_window\n",
    "    return df\n",
    "\n",
    "\n",
    "def set_time_window_feature(df, time_window: int, window_col_name: str, base_col_name: str):\n",
    "    df[window_col_name] = DEFAULT_FEATURE_VALUE  # initialize\n",
    "    for i in range(time_window, len(df)):\n",
    "        df.at[i, window_col_name] = df[base_col_name].iloc[i - time_window]\n",
    "    return df"
   ],
   "metadata": {
    "collapsed": false
   }
  },
  {
   "cell_type": "markdown",
   "source": [
    "avg temperature"
   ],
   "metadata": {
    "collapsed": false
   }
  },
  {
   "cell_type": "code",
   "execution_count": 8,
   "outputs": [],
   "source": [
    "df_raw = set_time_window_avg_feature(df_raw, 1, 'tempC_avg_1days', 'tempC_avg_today')\n",
    "df_raw = set_time_window_avg_feature(df_raw, 3, 'tempC_avg_3days', 'tempC_avg_today')\n",
    "df_raw = set_time_window_avg_feature(df_raw, 7, 'tempC_avg_7days', 'tempC_avg_today')"
   ],
   "metadata": {
    "collapsed": false
   }
  },
  {
   "cell_type": "markdown",
   "source": [
    "high temperature"
   ],
   "metadata": {
    "collapsed": false
   }
  },
  {
   "cell_type": "code",
   "execution_count": 9,
   "outputs": [],
   "source": [
    "df_raw = set_time_window_feature(df_raw, 1, 'tempC_high_1days', 'maxtempC')\n",
    "df_raw = set_time_window_feature(df_raw, 3, 'tempC_high_3days', 'maxtempC')\n",
    "df_raw = set_time_window_feature(df_raw, 7, 'tempC_high_7days', 'maxtempC')"
   ],
   "metadata": {
    "collapsed": false
   }
  },
  {
   "cell_type": "markdown",
   "source": [
    "low temperature"
   ],
   "metadata": {
    "collapsed": false
   }
  },
  {
   "cell_type": "code",
   "execution_count": 10,
   "outputs": [],
   "source": [
    "df_raw = set_time_window_feature(df_raw, 1, 'tempC_low_1days', 'mintempC')\n",
    "df_raw = set_time_window_feature(df_raw, 3, 'tempC_low_3days', 'mintempC')\n",
    "df_raw = set_time_window_feature(df_raw, 7, 'tempC_low_7days', 'mintempC')"
   ],
   "metadata": {
    "collapsed": false
   }
  },
  {
   "cell_type": "markdown",
   "source": [
    "2. time feature\n",
    "+ month"
   ],
   "metadata": {
    "collapsed": false
   }
  },
  {
   "cell_type": "code",
   "execution_count": 11,
   "outputs": [
    {
     "data": {
      "text/plain": "<LAMBDA> DONE:   0%|          | 0/2502 [00:00<?, ?it/s]",
      "application/vnd.jupyter.widget-view+json": {
       "version_major": 2,
       "version_minor": 0,
       "model_id": "9bcfc1b27d6c450296470459f49e614d"
      }
     },
     "metadata": {},
     "output_type": "display_data"
    }
   ],
   "source": [
    "df_raw['month'] = df_raw.p_apply(lambda l: int(l.date[5:7]), axis=1)"
   ],
   "metadata": {
    "collapsed": false
   }
  },
  {
   "cell_type": "code",
   "execution_count": 12,
   "outputs": [],
   "source": [
    "df_raw = df_raw[6:-1]"
   ],
   "metadata": {
    "collapsed": false
   }
  },
  {
   "cell_type": "markdown",
   "source": [
    "## filter feature"
   ],
   "metadata": {
    "collapsed": false
   }
  },
  {
   "cell_type": "code",
   "execution_count": 13,
   "outputs": [
    {
     "name": "stdout",
     "output_type": "stream",
     "text": [
      "<class 'pandas.core.frame.DataFrame'>\n",
      "RangeIndex: 2495 entries, 6 to 2500\n",
      "Data columns (total 34 columns):\n",
      " #   Column             Non-Null Count  Dtype  \n",
      "---  ------             --------------  -----  \n",
      " 0   date               2495 non-null   object \n",
      " 1   maxtempC           2495 non-null   float64\n",
      " 2   mintempC           2495 non-null   float64\n",
      " 3   totalSnow_cm       2495 non-null   float64\n",
      " 4   sunHour            2495 non-null   float64\n",
      " 5   uvIndex            2495 non-null   float64\n",
      " 6   moon_illumination  2495 non-null   float64\n",
      " 7   DewPointC          2495 non-null   float64\n",
      " 8   FeelsLikeC         2495 non-null   float64\n",
      " 9   HeatIndexC         2495 non-null   float64\n",
      " 10  WindChillC         2495 non-null   float64\n",
      " 11  WindGustKmph       2495 non-null   float64\n",
      " 12  cloudcover         2495 non-null   float64\n",
      " 13  humidity           2495 non-null   float64\n",
      " 14  precipMM           2495 non-null   float64\n",
      " 15  pressure           2495 non-null   float64\n",
      " 16  tempC              2495 non-null   float64\n",
      " 17  visibility         2495 non-null   float64\n",
      " 18  winddirDegree      2495 non-null   float64\n",
      " 19  windspeedKmph      2495 non-null   float64\n",
      " 20  AQI                2495 non-null   float64\n",
      " 21  AQI_Explained      2495 non-null   object \n",
      " 22  tempC_avg_today    2495 non-null   float64\n",
      " 23  temp_to_pred       2495 non-null   float64\n",
      " 24  tempC_avg_1days    2495 non-null   float64\n",
      " 25  tempC_avg_3days    2495 non-null   float64\n",
      " 26  tempC_avg_7days    2495 non-null   float64\n",
      " 27  tempC_high_1days   2495 non-null   float64\n",
      " 28  tempC_high_3days   2495 non-null   float64\n",
      " 29  tempC_high_7days   2495 non-null   float64\n",
      " 30  tempC_low_1days    2495 non-null   float64\n",
      " 31  tempC_low_3days    2495 non-null   float64\n",
      " 32  tempC_low_7days    2495 non-null   float64\n",
      " 33  month              2495 non-null   int64  \n",
      "dtypes: float64(31), int64(1), object(2)\n",
      "memory usage: 662.9+ KB\n"
     ]
    }
   ],
   "source": [
    "df_raw.info()"
   ],
   "metadata": {
    "collapsed": false
   }
  },
  {
   "cell_type": "code",
   "execution_count": 14,
   "outputs": [
    {
     "name": "stderr",
     "output_type": "stream",
     "text": [
      "C:\\Users\\fyk12\\AppData\\Local\\Temp\\ipykernel_19804\\374109260.py:1: SettingWithCopyWarning: \n",
      "A value is trying to be set on a copy of a slice from a DataFrame\n",
      "\n",
      "See the caveats in the documentation: https://pandas.pydata.org/pandas-docs/stable/user_guide/indexing.html#returning-a-view-versus-a-copy\n",
      "  df_raw.drop(['date','AQI_Explained'],inplace=True,axis=1)\n"
     ]
    }
   ],
   "source": [
    "df_raw.drop(['date', 'AQI_Explained'], inplace=True, axis=1)"
   ],
   "metadata": {
    "collapsed": false
   }
  },
  {
   "cell_type": "code",
   "execution_count": 15,
   "outputs": [
    {
     "data": {
      "text/plain": "      maxtempC  mintempC  totalSnow_cm  sunHour  uvIndex  moon_illumination  \\\n6         12.0       9.0           0.0      5.5      3.0               39.0   \n7          9.0       4.0           0.0      4.0      2.0               46.0   \n8          5.0       2.0           0.0      8.7      2.0               53.0   \n9          7.0       1.0           0.0      8.7      2.0               61.0   \n10         7.0       5.0           0.0      4.0      2.0               68.0   \n...        ...       ...           ...      ...      ...                ...   \n2496      14.0       9.0           0.0      7.1      3.0               81.0   \n2497      12.0      10.0           0.0      4.0      3.0               88.0   \n2498      11.0       7.0           0.0      8.7      2.0               96.0   \n2499      10.0       4.0           0.0      8.7      3.0              100.0   \n2500       9.0       6.0           0.0      8.7      3.0               90.0   \n\n      DewPointC  FeelsLikeC  HeatIndexC  WindChillC  ...  tempC_avg_1days  \\\n6           8.0         8.0        10.0         8.0  ...              3.0   \n7           5.0         4.0         8.0         4.0  ...              1.5   \n8          -2.0         1.0         4.0         1.0  ...              2.5   \n9           0.0         4.0         6.0         4.0  ...              1.5   \n10          3.0         3.0         6.0         3.0  ...              3.0   \n...         ...         ...         ...         ...  ...              ...   \n2496        7.0        11.0        12.0        11.0  ...              3.0   \n2497        7.0        10.0        11.0        10.0  ...              2.5   \n2498        4.0         7.0         9.0         7.0  ...              1.0   \n2499       -5.0         5.0         8.0         5.0  ...              2.0   \n2500       -9.0         5.0         7.0         5.0  ...              3.0   \n\n      tempC_avg_3days  tempC_avg_7days  tempC_high_1days  tempC_high_3days  \\\n6            3.166667      -999.000000              11.0              10.0   \n7            2.666667         3.285714              12.0              10.0   \n8            2.333333         2.928571               9.0              11.0   \n9            1.833333         2.642857               5.0              12.0   \n10           2.333333         2.571429               7.0               9.0   \n...               ...              ...               ...               ...   \n2496         1.666667         2.857143              12.0              12.0   \n2497         2.166667         2.285714              14.0               9.0   \n2498         2.166667         2.142857              12.0              12.0   \n2499         1.833333         2.071429              11.0              14.0   \n2500         2.000000         1.928571              10.0              12.0   \n\n      tempC_high_7days  tempC_low_1days  tempC_low_3days  tempC_low_7days  \\\n6               -999.0              5.0              4.0           -999.0   \n7                 15.0              9.0              3.0              5.0   \n8                 14.0              4.0              5.0              7.0   \n9                 16.0              2.0              9.0              9.0   \n10                10.0              1.0              4.0              4.0   \n...                ...              ...              ...              ...   \n2496              14.0              6.0             10.0              1.0   \n2497              10.0              9.0              7.0              6.0   \n2498              14.0             10.0              6.0              9.0   \n2499              20.0              7.0              9.0             12.0   \n2500              12.0              4.0             10.0             10.0   \n\n      month  \n6         1  \n7         1  \n8         1  \n9         1  \n10        1  \n...     ...  \n2496      1  \n2497      1  \n2498      1  \n2499      1  \n2500      1  \n\n[2495 rows x 32 columns]",
      "text/html": "<div>\n<style scoped>\n    .dataframe tbody tr th:only-of-type {\n        vertical-align: middle;\n    }\n\n    .dataframe tbody tr th {\n        vertical-align: top;\n    }\n\n    .dataframe thead th {\n        text-align: right;\n    }\n</style>\n<table border=\"1\" class=\"dataframe\">\n  <thead>\n    <tr style=\"text-align: right;\">\n      <th></th>\n      <th>maxtempC</th>\n      <th>mintempC</th>\n      <th>totalSnow_cm</th>\n      <th>sunHour</th>\n      <th>uvIndex</th>\n      <th>moon_illumination</th>\n      <th>DewPointC</th>\n      <th>FeelsLikeC</th>\n      <th>HeatIndexC</th>\n      <th>WindChillC</th>\n      <th>...</th>\n      <th>tempC_avg_1days</th>\n      <th>tempC_avg_3days</th>\n      <th>tempC_avg_7days</th>\n      <th>tempC_high_1days</th>\n      <th>tempC_high_3days</th>\n      <th>tempC_high_7days</th>\n      <th>tempC_low_1days</th>\n      <th>tempC_low_3days</th>\n      <th>tempC_low_7days</th>\n      <th>month</th>\n    </tr>\n  </thead>\n  <tbody>\n    <tr>\n      <th>6</th>\n      <td>12.0</td>\n      <td>9.0</td>\n      <td>0.0</td>\n      <td>5.5</td>\n      <td>3.0</td>\n      <td>39.0</td>\n      <td>8.0</td>\n      <td>8.0</td>\n      <td>10.0</td>\n      <td>8.0</td>\n      <td>...</td>\n      <td>3.0</td>\n      <td>3.166667</td>\n      <td>-999.000000</td>\n      <td>11.0</td>\n      <td>10.0</td>\n      <td>-999.0</td>\n      <td>5.0</td>\n      <td>4.0</td>\n      <td>-999.0</td>\n      <td>1</td>\n    </tr>\n    <tr>\n      <th>7</th>\n      <td>9.0</td>\n      <td>4.0</td>\n      <td>0.0</td>\n      <td>4.0</td>\n      <td>2.0</td>\n      <td>46.0</td>\n      <td>5.0</td>\n      <td>4.0</td>\n      <td>8.0</td>\n      <td>4.0</td>\n      <td>...</td>\n      <td>1.5</td>\n      <td>2.666667</td>\n      <td>3.285714</td>\n      <td>12.0</td>\n      <td>10.0</td>\n      <td>15.0</td>\n      <td>9.0</td>\n      <td>3.0</td>\n      <td>5.0</td>\n      <td>1</td>\n    </tr>\n    <tr>\n      <th>8</th>\n      <td>5.0</td>\n      <td>2.0</td>\n      <td>0.0</td>\n      <td>8.7</td>\n      <td>2.0</td>\n      <td>53.0</td>\n      <td>-2.0</td>\n      <td>1.0</td>\n      <td>4.0</td>\n      <td>1.0</td>\n      <td>...</td>\n      <td>2.5</td>\n      <td>2.333333</td>\n      <td>2.928571</td>\n      <td>9.0</td>\n      <td>11.0</td>\n      <td>14.0</td>\n      <td>4.0</td>\n      <td>5.0</td>\n      <td>7.0</td>\n      <td>1</td>\n    </tr>\n    <tr>\n      <th>9</th>\n      <td>7.0</td>\n      <td>1.0</td>\n      <td>0.0</td>\n      <td>8.7</td>\n      <td>2.0</td>\n      <td>61.0</td>\n      <td>0.0</td>\n      <td>4.0</td>\n      <td>6.0</td>\n      <td>4.0</td>\n      <td>...</td>\n      <td>1.5</td>\n      <td>1.833333</td>\n      <td>2.642857</td>\n      <td>5.0</td>\n      <td>12.0</td>\n      <td>16.0</td>\n      <td>2.0</td>\n      <td>9.0</td>\n      <td>9.0</td>\n      <td>1</td>\n    </tr>\n    <tr>\n      <th>10</th>\n      <td>7.0</td>\n      <td>5.0</td>\n      <td>0.0</td>\n      <td>4.0</td>\n      <td>2.0</td>\n      <td>68.0</td>\n      <td>3.0</td>\n      <td>3.0</td>\n      <td>6.0</td>\n      <td>3.0</td>\n      <td>...</td>\n      <td>3.0</td>\n      <td>2.333333</td>\n      <td>2.571429</td>\n      <td>7.0</td>\n      <td>9.0</td>\n      <td>10.0</td>\n      <td>1.0</td>\n      <td>4.0</td>\n      <td>4.0</td>\n      <td>1</td>\n    </tr>\n    <tr>\n      <th>...</th>\n      <td>...</td>\n      <td>...</td>\n      <td>...</td>\n      <td>...</td>\n      <td>...</td>\n      <td>...</td>\n      <td>...</td>\n      <td>...</td>\n      <td>...</td>\n      <td>...</td>\n      <td>...</td>\n      <td>...</td>\n      <td>...</td>\n      <td>...</td>\n      <td>...</td>\n      <td>...</td>\n      <td>...</td>\n      <td>...</td>\n      <td>...</td>\n      <td>...</td>\n      <td>...</td>\n    </tr>\n    <tr>\n      <th>2496</th>\n      <td>14.0</td>\n      <td>9.0</td>\n      <td>0.0</td>\n      <td>7.1</td>\n      <td>3.0</td>\n      <td>81.0</td>\n      <td>7.0</td>\n      <td>11.0</td>\n      <td>12.0</td>\n      <td>11.0</td>\n      <td>...</td>\n      <td>3.0</td>\n      <td>1.666667</td>\n      <td>2.857143</td>\n      <td>12.0</td>\n      <td>12.0</td>\n      <td>14.0</td>\n      <td>6.0</td>\n      <td>10.0</td>\n      <td>1.0</td>\n      <td>1</td>\n    </tr>\n    <tr>\n      <th>2497</th>\n      <td>12.0</td>\n      <td>10.0</td>\n      <td>0.0</td>\n      <td>4.0</td>\n      <td>3.0</td>\n      <td>88.0</td>\n      <td>7.0</td>\n      <td>10.0</td>\n      <td>11.0</td>\n      <td>10.0</td>\n      <td>...</td>\n      <td>2.5</td>\n      <td>2.166667</td>\n      <td>2.285714</td>\n      <td>14.0</td>\n      <td>9.0</td>\n      <td>10.0</td>\n      <td>9.0</td>\n      <td>7.0</td>\n      <td>6.0</td>\n      <td>1</td>\n    </tr>\n    <tr>\n      <th>2498</th>\n      <td>11.0</td>\n      <td>7.0</td>\n      <td>0.0</td>\n      <td>8.7</td>\n      <td>2.0</td>\n      <td>96.0</td>\n      <td>4.0</td>\n      <td>7.0</td>\n      <td>9.0</td>\n      <td>7.0</td>\n      <td>...</td>\n      <td>1.0</td>\n      <td>2.166667</td>\n      <td>2.142857</td>\n      <td>12.0</td>\n      <td>12.0</td>\n      <td>14.0</td>\n      <td>10.0</td>\n      <td>6.0</td>\n      <td>9.0</td>\n      <td>1</td>\n    </tr>\n    <tr>\n      <th>2499</th>\n      <td>10.0</td>\n      <td>4.0</td>\n      <td>0.0</td>\n      <td>8.7</td>\n      <td>3.0</td>\n      <td>100.0</td>\n      <td>-5.0</td>\n      <td>5.0</td>\n      <td>8.0</td>\n      <td>5.0</td>\n      <td>...</td>\n      <td>2.0</td>\n      <td>1.833333</td>\n      <td>2.071429</td>\n      <td>11.0</td>\n      <td>14.0</td>\n      <td>20.0</td>\n      <td>7.0</td>\n      <td>9.0</td>\n      <td>12.0</td>\n      <td>1</td>\n    </tr>\n    <tr>\n      <th>2500</th>\n      <td>9.0</td>\n      <td>6.0</td>\n      <td>0.0</td>\n      <td>8.7</td>\n      <td>3.0</td>\n      <td>90.0</td>\n      <td>-9.0</td>\n      <td>5.0</td>\n      <td>7.0</td>\n      <td>5.0</td>\n      <td>...</td>\n      <td>3.0</td>\n      <td>2.000000</td>\n      <td>1.928571</td>\n      <td>10.0</td>\n      <td>12.0</td>\n      <td>12.0</td>\n      <td>4.0</td>\n      <td>10.0</td>\n      <td>10.0</td>\n      <td>1</td>\n    </tr>\n  </tbody>\n</table>\n<p>2495 rows × 32 columns</p>\n</div>"
     },
     "execution_count": 15,
     "metadata": {},
     "output_type": "execute_result"
    }
   ],
   "source": [
    "df_raw"
   ],
   "metadata": {
    "collapsed": false
   }
  },
  {
   "cell_type": "markdown",
   "source": [
    "## split train and test"
   ],
   "metadata": {
    "collapsed": false
   }
  },
  {
   "cell_type": "markdown",
   "source": [],
   "metadata": {
    "collapsed": false
   }
  },
  {
   "cell_type": "code",
   "execution_count": 16,
   "outputs": [],
   "source": [
    "import numpy as np"
   ],
   "metadata": {
    "collapsed": false
   }
  },
  {
   "cell_type": "code",
   "execution_count": 17,
   "outputs": [],
   "source": [
    "cap_train = int(0.8 * len(df_raw))"
   ],
   "metadata": {
    "collapsed": false
   }
  },
  {
   "cell_type": "code",
   "execution_count": 18,
   "outputs": [],
   "source": [
    "df_train = df_raw[:cap_train]\n",
    "df_test = df_raw[cap_train:]"
   ],
   "metadata": {
    "collapsed": false
   }
  },
  {
   "cell_type": "code",
   "execution_count": 19,
   "outputs": [],
   "source": [
    "train_x = np.array(df_train.drop(['temp_to_pred'], axis=1))\n",
    "train_y = np.array(df_train[\"temp_to_pred\"])"
   ],
   "metadata": {
    "collapsed": false
   }
  },
  {
   "cell_type": "code",
   "execution_count": 20,
   "outputs": [],
   "source": [
    "test_x = np.array(df_test.drop(['temp_to_pred'], axis=1))\n",
    "test_y = np.array(df_test[\"temp_to_pred\"])"
   ],
   "metadata": {
    "collapsed": false
   }
  },
  {
   "cell_type": "markdown",
   "source": [
    "# modeling"
   ],
   "metadata": {
    "collapsed": false
   }
  },
  {
   "cell_type": "code",
   "execution_count": 21,
   "outputs": [],
   "source": [
    "from lightgbm import LGBMRegressor"
   ],
   "metadata": {
    "collapsed": false
   }
  },
  {
   "cell_type": "code",
   "execution_count": 25,
   "outputs": [
    {
     "data": {
      "text/plain": "LGBMRegressor(num_leaves=2047)",
      "text/html": "<style>#sk-container-id-2 {color: black;background-color: white;}#sk-container-id-2 pre{padding: 0;}#sk-container-id-2 div.sk-toggleable {background-color: white;}#sk-container-id-2 label.sk-toggleable__label {cursor: pointer;display: block;width: 100%;margin-bottom: 0;padding: 0.3em;box-sizing: border-box;text-align: center;}#sk-container-id-2 label.sk-toggleable__label-arrow:before {content: \"▸\";float: left;margin-right: 0.25em;color: #696969;}#sk-container-id-2 label.sk-toggleable__label-arrow:hover:before {color: black;}#sk-container-id-2 div.sk-estimator:hover label.sk-toggleable__label-arrow:before {color: black;}#sk-container-id-2 div.sk-toggleable__content {max-height: 0;max-width: 0;overflow: hidden;text-align: left;background-color: #f0f8ff;}#sk-container-id-2 div.sk-toggleable__content pre {margin: 0.2em;color: black;border-radius: 0.25em;background-color: #f0f8ff;}#sk-container-id-2 input.sk-toggleable__control:checked~div.sk-toggleable__content {max-height: 200px;max-width: 100%;overflow: auto;}#sk-container-id-2 input.sk-toggleable__control:checked~label.sk-toggleable__label-arrow:before {content: \"▾\";}#sk-container-id-2 div.sk-estimator input.sk-toggleable__control:checked~label.sk-toggleable__label {background-color: #d4ebff;}#sk-container-id-2 div.sk-label input.sk-toggleable__control:checked~label.sk-toggleable__label {background-color: #d4ebff;}#sk-container-id-2 input.sk-hidden--visually {border: 0;clip: rect(1px 1px 1px 1px);clip: rect(1px, 1px, 1px, 1px);height: 1px;margin: -1px;overflow: hidden;padding: 0;position: absolute;width: 1px;}#sk-container-id-2 div.sk-estimator {font-family: monospace;background-color: #f0f8ff;border: 1px dotted black;border-radius: 0.25em;box-sizing: border-box;margin-bottom: 0.5em;}#sk-container-id-2 div.sk-estimator:hover {background-color: #d4ebff;}#sk-container-id-2 div.sk-parallel-item::after {content: \"\";width: 100%;border-bottom: 1px solid gray;flex-grow: 1;}#sk-container-id-2 div.sk-label:hover label.sk-toggleable__label {background-color: #d4ebff;}#sk-container-id-2 div.sk-serial::before {content: \"\";position: absolute;border-left: 1px solid gray;box-sizing: border-box;top: 0;bottom: 0;left: 50%;z-index: 0;}#sk-container-id-2 div.sk-serial {display: flex;flex-direction: column;align-items: center;background-color: white;padding-right: 0.2em;padding-left: 0.2em;position: relative;}#sk-container-id-2 div.sk-item {position: relative;z-index: 1;}#sk-container-id-2 div.sk-parallel {display: flex;align-items: stretch;justify-content: center;background-color: white;position: relative;}#sk-container-id-2 div.sk-item::before, #sk-container-id-2 div.sk-parallel-item::before {content: \"\";position: absolute;border-left: 1px solid gray;box-sizing: border-box;top: 0;bottom: 0;left: 50%;z-index: -1;}#sk-container-id-2 div.sk-parallel-item {display: flex;flex-direction: column;z-index: 1;position: relative;background-color: white;}#sk-container-id-2 div.sk-parallel-item:first-child::after {align-self: flex-end;width: 50%;}#sk-container-id-2 div.sk-parallel-item:last-child::after {align-self: flex-start;width: 50%;}#sk-container-id-2 div.sk-parallel-item:only-child::after {width: 0;}#sk-container-id-2 div.sk-dashed-wrapped {border: 1px dashed gray;margin: 0 0.4em 0.5em 0.4em;box-sizing: border-box;padding-bottom: 0.4em;background-color: white;}#sk-container-id-2 div.sk-label label {font-family: monospace;font-weight: bold;display: inline-block;line-height: 1.2em;}#sk-container-id-2 div.sk-label-container {text-align: center;}#sk-container-id-2 div.sk-container {/* jupyter's `normalize.less` sets `[hidden] { display: none; }` but bootstrap.min.css set `[hidden] { display: none !important; }` so we also need the `!important` here to be able to override the default hidden behavior on the sphinx rendered scikit-learn.org. See: https://github.com/scikit-learn/scikit-learn/issues/21755 */display: inline-block !important;position: relative;}#sk-container-id-2 div.sk-text-repr-fallback {display: none;}</style><div id=\"sk-container-id-2\" class=\"sk-top-container\"><div class=\"sk-text-repr-fallback\"><pre>LGBMRegressor(num_leaves=2047)</pre><b>In a Jupyter environment, please rerun this cell to show the HTML representation or trust the notebook. <br />On GitHub, the HTML representation is unable to render, please try loading this page with nbviewer.org.</b></div><div class=\"sk-container\" hidden><div class=\"sk-item\"><div class=\"sk-estimator sk-toggleable\"><input class=\"sk-toggleable__control sk-hidden--visually\" id=\"sk-estimator-id-2\" type=\"checkbox\" checked><label for=\"sk-estimator-id-2\" class=\"sk-toggleable__label sk-toggleable__label-arrow\">LGBMRegressor</label><div class=\"sk-toggleable__content\"><pre>LGBMRegressor(num_leaves=2047)</pre></div></div></div></div></div>"
     },
     "execution_count": 25,
     "metadata": {},
     "output_type": "execute_result"
    }
   ],
   "source": [
    "model = LGBMRegressor(num_leaves=2 ** 11 - 1)\n",
    "model.fit(train_x, train_y)"
   ],
   "metadata": {
    "collapsed": false
   }
  },
  {
   "cell_type": "code",
   "execution_count": 26,
   "outputs": [],
   "source": [
    "out = model.predict(test_x)"
   ],
   "metadata": {
    "collapsed": false
   }
  },
  {
   "cell_type": "code",
   "execution_count": 28,
   "outputs": [
    {
     "data": {
      "text/plain": "array([-5.09787065e-01,  3.49180614e-01, -3.10752896e-01,  4.74955220e-01,\n       -2.13360441e-01,  1.61801234e+00,  1.71186370e-01,  3.15597986e+00,\n        1.23257317e+00, -8.72652230e-02,  1.78423143e+00,  2.23758243e-01,\n        1.86685329e+00, -6.25815722e-01,  4.71052900e-02,  5.17687149e-01,\n        2.39417781e+00,  7.67736812e-02, -6.33647974e-02, -3.30473863e-01,\n        4.54840879e-01,  1.01197640e-01, -5.72041139e-01, -4.24273983e-02,\n        1.52231764e-01, -4.97098685e-01, -4.88168097e-01, -2.72690060e-01,\n        7.24508059e-01, -1.45034667e+00, -5.19590477e-01,  1.25516787e-01,\n        1.72292089e+00,  1.57895099e+00,  2.79063104e-01,  4.43630709e-01,\n        5.15654389e-02, -2.10612096e-04, -7.83798762e-01,  6.31329047e-01,\n       -1.39172989e+00,  1.03817240e+00,  1.31374824e+00,  4.76087306e-01,\n       -2.18173245e-01, -6.25412265e-03,  5.98325572e-01,  3.18691419e-01,\n       -1.43602414e+00,  4.38397356e-01, -9.28264952e-01, -1.52876542e+00,\n        5.99216914e-01,  4.82681158e-01,  2.94698448e-01,  3.38152919e-01,\n       -1.65118774e+00, -7.93919602e-01,  1.10022094e-01, -1.03310602e+00,\n       -6.83453618e-01,  6.65989516e-01, -7.30688675e-01, -2.09614468e-01,\n       -8.35694254e-01,  2.45184801e+00,  2.12528478e-01, -1.07096800e+00,\n        1.20974521e+00,  1.25548760e+00,  3.22129485e+00, -1.54185430e+00,\n       -5.94545432e-01,  9.78338310e-01, -3.24865753e-01, -4.21269994e-01,\n        8.84935308e-01,  8.41857487e-01, -1.56266111e+00, -1.92211374e-01,\n       -1.03401162e+00,  2.99115352e-01, -1.27965277e+00, -1.75718757e+00,\n        3.37381230e+00, -5.39984408e-01, -2.66962629e-01,  1.48005028e+00,\n       -2.20638947e-01, -1.63579905e+00, -8.33477482e-01, -1.50485392e+00,\n       -7.79499282e-01, -7.55380324e-01, -6.07147358e-01,  1.20448507e+00,\n        8.41181456e-01,  2.29171947e-01,  1.95476155e-01,  1.94756144e+00,\n        7.36353253e-01,  2.99660602e-01, -3.91785706e-01,  8.34542237e-01,\n        1.02771703e+00,  4.94280666e-01, -3.42208417e-02, -1.52372888e+00,\n        1.48279111e+00,  2.65047851e+00,  3.02929619e+00,  1.18932194e+00,\n       -9.15097211e-01, -1.02126599e+00,  2.05450435e+00, -1.31708489e+00,\n        1.26406296e+00, -7.12146304e-01,  3.85760265e-01, -5.18935330e-01,\n        3.42187359e-01, -2.11835118e-01,  8.29241554e-01, -3.01326689e-01,\n        1.50625531e+00,  4.45058661e-02, -5.26594527e-01,  1.46888337e+00,\n        1.52131114e+00,  9.45320778e-02, -7.84852045e-01, -1.03747289e+00,\n       -1.15473517e+00, -1.23145971e+00, -6.25033710e-01,  6.91313236e-01,\n        6.65740107e-01,  1.36548239e-01, -1.18836625e+00,  1.12585834e-01,\n        3.45957173e-01, -1.77058322e+00,  3.36456174e-01,  4.95616828e-01,\n        1.35775773e+00,  1.83415069e-01, -5.32942427e-01,  2.65917386e+00,\n       -1.58951278e+00, -1.64314153e+00,  2.72575773e+00, -8.24158458e-01,\n        3.21012950e-01, -6.39065474e-01, -6.49544130e-02, -5.22387119e-01,\n        8.02138780e-01, -6.66856155e-02, -1.83035130e+00,  2.02011777e+00,\n        1.24346377e+00, -1.46148762e+00, -1.26374779e-01,  6.24410661e-01,\n       -1.93714396e+00,  1.17063048e+00, -2.16594035e-01,  4.76161508e-02,\n       -9.32356423e-01,  6.13678454e-01,  2.90132144e-01,  8.62569111e-01,\n        6.11847143e-01, -1.10439045e+00, -1.60320740e+00, -8.94834772e-01,\n       -1.11120483e+00, -2.62909624e-01,  1.18684338e+00, -4.49493119e-01,\n       -1.46740449e+00,  2.22594288e+00, -8.87040149e-01, -2.14967103e+00,\n       -1.89793883e+00,  1.50454971e+00, -1.11346996e+00, -1.49093024e+00,\n       -7.88929967e-01, -7.53496674e-02, -5.41471642e-01, -2.17445966e+00,\n       -2.09781804e+00, -5.90083474e-01, -2.20325762e+00, -1.01843208e+00,\n       -1.34764725e+00,  1.06130837e+00,  1.22189611e+00, -4.45078455e-01,\n        6.10410226e-01,  1.35344551e+00, -1.35496595e-01, -2.09031489e+00,\n       -1.12124784e+00,  5.09785951e-01,  6.01902928e-01, -1.16736667e+00,\n       -8.11482961e-01, -1.72652950e-01, -6.97544937e-01, -2.69326438e+00,\n       -2.87542080e+00, -1.59538390e+00,  5.32513109e-01, -3.94248278e+00,\n        1.21435679e+00, -3.09080123e-01,  2.54126327e-01,  8.79066019e-01,\n       -1.20628401e+00, -8.30303176e-01,  2.09030231e-01,  2.77886689e-02,\n        2.73374903e-01, -3.31304680e+00,  1.77038878e+00,  3.22920960e+00,\n        2.96583093e+00, -1.69509210e+00, -1.10058449e+00, -1.54317167e+00,\n       -5.17637066e-01, -1.05670396e+00, -7.77796442e-01, -1.83524235e-01,\n        9.67679280e-01, -1.24214307e+00, -1.58078251e+00, -2.35497379e+00,\n       -1.33748452e-01,  2.53756421e+00, -1.33885424e+00,  6.19709621e-01,\n       -1.54729106e+00, -1.70038890e+00,  3.89307901e-01, -4.32604724e-01,\n        1.39662180e+00, -1.11915994e+00, -1.37600326e+00,  1.19146356e+00,\n        1.15097993e+00, -9.66391431e-01, -1.10432269e+00,  4.60122747e+00,\n       -2.77319857e-02,  2.43184998e+00, -2.74558054e+00,  2.78097361e-01,\n       -9.32857530e-01, -1.84543993e+00, -3.89581598e-02, -6.90860075e-01,\n       -1.05528956e+00, -1.07944979e+00,  1.71734377e-01,  1.56825673e-01,\n        2.33557497e+00, -1.58375836e+00, -1.00918544e+00, -9.11824076e-01,\n       -6.10599590e-01,  1.29405055e+00, -2.13515538e+00, -8.31880674e-01,\n       -1.19426841e-01,  1.39603842e+00, -9.37930283e-01,  2.74958038e+00,\n       -1.73789275e+00,  1.21747410e+00, -1.70201459e+00, -2.40484081e+00,\n        5.15822987e-01,  8.19176838e-01, -3.82798724e-01, -1.39666921e+00,\n       -1.53511451e+00, -6.09423811e-01, -4.58391103e-01, -1.06153758e+00,\n        1.47608842e+00, -2.48344872e-01,  7.88643913e-01,  6.89316042e-01,\n       -1.36931929e+00,  4.29784690e+00, -2.12926325e+00, -1.50497736e+00,\n       -3.08672379e+00, -2.21510677e+00, -1.06487459e+00,  1.91603262e+00,\n        5.89072314e-01, -2.33964617e+00, -4.40877594e-01,  5.27165349e-01,\n        1.13778390e+00,  1.06729497e-02,  8.06807775e-01, -8.45402559e-01,\n       -1.99449986e+00,  6.58509940e-01, -1.11101646e+00, -1.19375888e+00,\n       -1.08774585e+00, -5.64051879e-01, -1.14837245e-01, -5.45225305e-01,\n       -1.07800463e+00, -1.10166267e+00,  1.97149233e-01, -2.18012910e+00,\n       -1.45445543e+00,  2.40751230e-01,  6.72078877e-01,  1.42345214e+00,\n        1.87735760e-01,  1.06671921e+00,  2.11366316e-01, -2.64102986e-01,\n       -2.73757835e-01, -1.14136223e+00, -1.01937024e+00, -5.99263158e-01,\n       -3.32724444e-02, -8.93248512e-01, -1.18763253e+00, -4.48211095e-01,\n       -1.31903782e+00,  1.20093114e+00, -1.67545115e+00, -1.07994007e-01,\n       -1.93603425e+00,  9.93813372e-02, -1.02914709e+00,  9.86255020e-03,\n       -5.65344233e-01, -9.56668086e-02,  4.13076274e-01, -1.14511952e+00,\n        9.81086444e-01, -8.35291352e-01,  9.47530566e-01, -1.49196332e-01,\n        1.14917257e+00, -1.65282157e+00, -2.16389067e-01, -1.07743245e+00,\n       -1.44807021e+00,  6.69227071e-02, -2.13571790e+00,  1.66648837e+00,\n       -1.14624787e+00, -1.27240864e+00,  2.25226885e-02,  8.96099431e-01,\n       -5.66635753e-01,  5.68607448e-02, -2.43309722e+00,  4.83710689e+00,\n       -3.61160193e-01, -1.92076669e-01, -5.35909653e-02,  1.84953421e-03,\n       -4.06957568e-01, -2.44047078e-01, -3.20768059e-01, -2.19546291e-01,\n       -1.25627804e+00,  2.04973723e+00, -1.76433520e-01,  3.25981595e-01,\n       -1.57807448e+00,  6.23628991e-01,  1.47989267e-01,  1.54747163e+00,\n        1.96745410e+00, -3.90175317e-01, -4.48929730e-01, -2.93088177e-01,\n       -8.17261965e-01, -1.67058294e+00,  4.69266658e+00, -3.13413727e+00,\n        2.53624917e-01, -1.68528532e-01,  1.05477858e+00,  2.30368171e+00,\n       -2.26872256e+00, -1.46899054e+00,  1.57260443e+00, -7.62773046e-01,\n       -8.69553631e-01, -1.25063572e+00,  2.21880371e-01,  1.80622523e+00,\n       -1.36147562e+00, -6.86593406e-01, -5.50637200e-01,  1.48312045e+00,\n       -1.05357192e+00,  7.28486161e-01, -1.22347116e+00, -1.72173169e+00,\n       -1.38618973e+00, -6.15455583e-01,  3.85234425e-01,  1.37307738e+00,\n        1.42091025e+00,  7.87872248e-02,  2.93496680e-02, -5.00400929e-01,\n       -5.69864036e-02, -6.47000875e-01, -7.81913926e-01, -1.47287954e+00,\n        8.95754750e-01,  7.22346244e-02, -3.87020566e-01,  3.81091989e-01,\n        5.37156187e-02, -4.27144492e-01, -1.20192025e+00, -1.07486150e+00,\n       -9.37879086e-03,  6.41589159e-01, -1.17282484e+00, -7.58393720e-01,\n       -1.09240613e+00, -1.31662875e+00,  3.26226634e-01,  2.79559321e-01,\n       -7.74185114e-01,  5.98477644e-01,  1.92838122e-01,  2.58292149e-01,\n        3.43290993e-01,  1.54214703e+00,  5.04050396e-01, -1.95140304e+00,\n       -9.07545458e-01,  7.46146338e-01, -1.47995619e+00, -1.01556838e+00,\n       -3.48444851e-01,  1.64048869e+00,  1.56285496e+00,  1.19631294e+00,\n        3.95061172e-01, -5.39304993e-01, -3.11457100e-01,  6.52234622e-01,\n        1.91402119e+00, -7.21438424e-01,  3.64407580e+00, -2.31394135e+00,\n        6.91771219e-01, -1.94277676e-01, -5.49783961e-01, -8.55745536e-01,\n       -5.81427029e-01, -8.25392194e-02, -3.35956553e-01, -1.62281202e+00,\n        6.42138908e-01,  1.88396176e+00,  1.71982211e-01, -9.10612262e-01,\n        1.04218259e+00, -3.94530052e-01, -7.43936078e-01,  2.73668427e+00,\n       -3.13987094e+00,  6.17098742e-01,  2.87027779e+00, -3.38720456e+00,\n       -1.24900946e+00,  1.69560135e+00, -2.00633834e+00, -8.94141757e-01,\n        1.01962843e+00,  3.66578093e-01, -5.26146700e-01, -6.02309333e-02,\n        5.04742692e-01, -2.10917211e+00,  6.71201794e-01])"
     },
     "execution_count": 28,
     "metadata": {},
     "output_type": "execute_result"
    }
   ],
   "source": [
    "test_y - out"
   ],
   "metadata": {
    "collapsed": false
   }
  },
  {
   "cell_type": "code",
   "execution_count": 33,
   "outputs": [
    {
     "data": {
      "text/plain": "1.010522832968564"
     },
     "execution_count": 33,
     "metadata": {},
     "output_type": "execute_result"
    }
   ],
   "source": [
    "abs(test_y - out).mean()"
   ],
   "metadata": {
    "collapsed": false
   }
  },
  {
   "cell_type": "markdown",
   "source": [
    "save trained model"
   ],
   "metadata": {
    "collapsed": false
   }
  },
  {
   "cell_type": "code",
   "execution_count": null,
   "outputs": [],
   "source": [
    "model.get_params()"
   ],
   "metadata": {
    "collapsed": false
   }
  },
  {
   "cell_type": "code",
   "execution_count": 31,
   "outputs": [],
   "source": [
    "import lightgbm as lgb"
   ],
   "metadata": {
    "collapsed": false
   }
  },
  {
   "cell_type": "code",
   "execution_count": 33,
   "outputs": [],
   "source": [
    "train_set = lgb.Dataset(train_x, train_y)\n",
    "test_set = lgb.Dataset(test_x, test_y, reference=train_set)"
   ],
   "metadata": {
    "collapsed": false
   }
  },
  {
   "cell_type": "code",
   "execution_count": 36,
   "outputs": [
    {
     "name": "stderr",
     "output_type": "stream",
     "text": [
      "/Users/yangke.fan/Library/Application Support/JetBrains/DataSpell2022.2/projects/workspace/venv/lib/python3.9/site-packages/lightgbm/engine.py:177: UserWarning: Found `n_estimators` in params. Will use it instead of argument\n",
      "  _log_warning(f\"Found `{alias}` in params. Will use it instead of argument\")\n"
     ]
    },
    {
     "name": "stdout",
     "output_type": "stream",
     "text": [
      "[LightGBM] [Warning] Unknown parameter: silent\n",
      "[LightGBM] [Warning] Unknown parameter: importance_type\n",
      "[LightGBM] [Warning] Unknown parameter: silent\n",
      "[LightGBM] [Warning] Unknown parameter: importance_type\n",
      "[LightGBM] [Warning] Unknown parameter: silent\n",
      "[LightGBM] [Warning] Unknown parameter: importance_type\n",
      "[LightGBM] [Warning] Unknown parameter: silent\n",
      "[LightGBM] [Warning] Unknown parameter: importance_type\n",
      "[LightGBM] [Warning] Unknown parameter: silent\n",
      "[LightGBM] [Warning] Unknown parameter: importance_type\n",
      "[LightGBM] [Warning] Auto-choosing row-wise multi-threading, the overhead of testing was 0.000474 seconds.\n",
      "You can set `force_row_wise=true` to remove the overhead.\n",
      "And if memory is not enough, you can set `force_col_wise=true`.\n",
      "[LightGBM] [Info] Total Bins 1602\n",
      "[LightGBM] [Info] Number of data points in the train set: 1996, number of used features: 30\n",
      "[LightGBM] [Info] Start training from score 3.288577\n",
      "[LightGBM] [Warning] No further splits with positive gain, best gain: -inf\n",
      "[1]\tvalid_0's l2: 1.67641\n",
      "[LightGBM] [Warning] No further splits with positive gain, best gain: -inf\n",
      "[2]\tvalid_0's l2: 1.6366\n",
      "[LightGBM] [Warning] No further splits with positive gain, best gain: -inf\n",
      "[3]\tvalid_0's l2: 1.61365\n",
      "[LightGBM] [Warning] No further splits with positive gain, best gain: -inf\n",
      "[4]\tvalid_0's l2: 1.59052\n",
      "[LightGBM] [Warning] No further splits with positive gain, best gain: -inf\n",
      "[5]\tvalid_0's l2: 1.55647\n",
      "[LightGBM] [Warning] No further splits with positive gain, best gain: -inf\n",
      "[6]\tvalid_0's l2: 1.53819\n",
      "[LightGBM] [Warning] No further splits with positive gain, best gain: -inf\n",
      "[7]\tvalid_0's l2: 1.53501\n",
      "[LightGBM] [Warning] No further splits with positive gain, best gain: -inf\n",
      "[8]\tvalid_0's l2: 1.54028\n",
      "[LightGBM] [Warning] No further splits with positive gain, best gain: -inf\n",
      "[9]\tvalid_0's l2: 1.53711\n",
      "[LightGBM] [Warning] No further splits with positive gain, best gain: -inf\n",
      "[10]\tvalid_0's l2: 1.5404\n",
      "[LightGBM] [Warning] No further splits with positive gain, best gain: -inf\n",
      "[11]\tvalid_0's l2: 1.53883\n",
      "[LightGBM] [Warning] No further splits with positive gain, best gain: -inf\n",
      "[12]\tvalid_0's l2: 1.54579\n",
      "[LightGBM] [Warning] No further splits with positive gain, best gain: -inf\n",
      "[13]\tvalid_0's l2: 1.54807\n",
      "[LightGBM] [Warning] No further splits with positive gain, best gain: -inf\n",
      "[14]\tvalid_0's l2: 1.55056\n",
      "[LightGBM] [Warning] No further splits with positive gain, best gain: -inf\n",
      "[15]\tvalid_0's l2: 1.56176\n",
      "[LightGBM] [Warning] No further splits with positive gain, best gain: -inf\n",
      "[16]\tvalid_0's l2: 1.57306\n",
      "[LightGBM] [Warning] No further splits with positive gain, best gain: -inf\n",
      "[17]\tvalid_0's l2: 1.58111\n",
      "[LightGBM] [Warning] No further splits with positive gain, best gain: -inf\n",
      "[18]\tvalid_0's l2: 1.59039\n",
      "[LightGBM] [Warning] No further splits with positive gain, best gain: -inf\n",
      "[19]\tvalid_0's l2: 1.59604\n",
      "[LightGBM] [Warning] No further splits with positive gain, best gain: -inf\n",
      "[20]\tvalid_0's l2: 1.59625\n",
      "[LightGBM] [Warning] No further splits with positive gain, best gain: -inf\n",
      "[21]\tvalid_0's l2: 1.60215\n",
      "[LightGBM] [Warning] No further splits with positive gain, best gain: -inf\n",
      "[22]\tvalid_0's l2: 1.60451\n",
      "[LightGBM] [Warning] No further splits with positive gain, best gain: -inf\n",
      "[23]\tvalid_0's l2: 1.61422\n",
      "[LightGBM] [Warning] No further splits with positive gain, best gain: -inf\n",
      "[24]\tvalid_0's l2: 1.6164\n",
      "[LightGBM] [Warning] No further splits with positive gain, best gain: -inf\n",
      "[25]\tvalid_0's l2: 1.61637\n",
      "[LightGBM] [Warning] No further splits with positive gain, best gain: -inf\n",
      "[26]\tvalid_0's l2: 1.61888\n",
      "[LightGBM] [Warning] No further splits with positive gain, best gain: -inf\n",
      "[27]\tvalid_0's l2: 1.62646\n",
      "[LightGBM] [Warning] No further splits with positive gain, best gain: -inf\n",
      "[28]\tvalid_0's l2: 1.63686\n",
      "[LightGBM] [Warning] No further splits with positive gain, best gain: -inf\n",
      "[29]\tvalid_0's l2: 1.63724\n",
      "[LightGBM] [Warning] No further splits with positive gain, best gain: -inf\n",
      "[30]\tvalid_0's l2: 1.6416\n",
      "[LightGBM] [Warning] No further splits with positive gain, best gain: -inf\n",
      "[31]\tvalid_0's l2: 1.63943\n",
      "[LightGBM] [Warning] No further splits with positive gain, best gain: -inf\n",
      "[32]\tvalid_0's l2: 1.6422\n",
      "[LightGBM] [Warning] No further splits with positive gain, best gain: -inf\n",
      "[33]\tvalid_0's l2: 1.65268\n",
      "[LightGBM] [Warning] No further splits with positive gain, best gain: -inf\n",
      "[34]\tvalid_0's l2: 1.65381\n",
      "[LightGBM] [Warning] No further splits with positive gain, best gain: -inf\n",
      "[35]\tvalid_0's l2: 1.65797\n",
      "[LightGBM] [Warning] No further splits with positive gain, best gain: -inf\n",
      "[36]\tvalid_0's l2: 1.66288\n",
      "[LightGBM] [Warning] No further splits with positive gain, best gain: -inf\n",
      "[37]\tvalid_0's l2: 1.66183\n",
      "[LightGBM] [Warning] No further splits with positive gain, best gain: -inf\n",
      "[38]\tvalid_0's l2: 1.66415\n",
      "[LightGBM] [Warning] No further splits with positive gain, best gain: -inf\n",
      "[39]\tvalid_0's l2: 1.66554\n",
      "[LightGBM] [Warning] No further splits with positive gain, best gain: -inf\n",
      "[40]\tvalid_0's l2: 1.66463\n",
      "[LightGBM] [Warning] No further splits with positive gain, best gain: -inf\n",
      "[41]\tvalid_0's l2: 1.66942\n",
      "[LightGBM] [Warning] No further splits with positive gain, best gain: -inf\n",
      "[42]\tvalid_0's l2: 1.66849\n",
      "[LightGBM] [Warning] No further splits with positive gain, best gain: -inf\n",
      "[43]\tvalid_0's l2: 1.66625\n",
      "[LightGBM] [Warning] No further splits with positive gain, best gain: -inf\n",
      "[44]\tvalid_0's l2: 1.66861\n",
      "[LightGBM] [Warning] No further splits with positive gain, best gain: -inf\n",
      "[45]\tvalid_0's l2: 1.66895\n",
      "[LightGBM] [Warning] No further splits with positive gain, best gain: -inf\n",
      "[46]\tvalid_0's l2: 1.66976\n",
      "[LightGBM] [Warning] No further splits with positive gain, best gain: -inf\n",
      "[47]\tvalid_0's l2: 1.66856\n",
      "[LightGBM] [Warning] No further splits with positive gain, best gain: -inf\n",
      "[48]\tvalid_0's l2: 1.67549\n",
      "[LightGBM] [Warning] No further splits with positive gain, best gain: -inf\n",
      "[49]\tvalid_0's l2: 1.67222\n",
      "[LightGBM] [Warning] No further splits with positive gain, best gain: -inf\n",
      "[50]\tvalid_0's l2: 1.67121\n",
      "[LightGBM] [Warning] No further splits with positive gain, best gain: -inf\n",
      "[51]\tvalid_0's l2: 1.67152\n",
      "[LightGBM] [Warning] No further splits with positive gain, best gain: -inf\n",
      "[52]\tvalid_0's l2: 1.6741\n",
      "[LightGBM] [Warning] No further splits with positive gain, best gain: -inf\n",
      "[53]\tvalid_0's l2: 1.67301\n",
      "[LightGBM] [Warning] No further splits with positive gain, best gain: -inf\n",
      "[54]\tvalid_0's l2: 1.67383\n",
      "[LightGBM] [Warning] No further splits with positive gain, best gain: -inf\n",
      "[55]\tvalid_0's l2: 1.67668\n",
      "[LightGBM] [Warning] No further splits with positive gain, best gain: -inf\n",
      "[56]\tvalid_0's l2: 1.6767\n",
      "[LightGBM] [Warning] No further splits with positive gain, best gain: -inf\n",
      "[57]\tvalid_0's l2: 1.67649\n",
      "[LightGBM] [Warning] No further splits with positive gain, best gain: -inf\n",
      "[58]\tvalid_0's l2: 1.67996\n",
      "[LightGBM] [Warning] No further splits with positive gain, best gain: -inf\n",
      "[59]\tvalid_0's l2: 1.68014\n",
      "[LightGBM] [Warning] No further splits with positive gain, best gain: -inf\n",
      "[60]\tvalid_0's l2: 1.68054\n",
      "[LightGBM] [Warning] No further splits with positive gain, best gain: -inf\n",
      "[61]\tvalid_0's l2: 1.68184\n",
      "[LightGBM] [Warning] No further splits with positive gain, best gain: -inf\n",
      "[62]\tvalid_0's l2: 1.68083\n",
      "[LightGBM] [Warning] No further splits with positive gain, best gain: -inf\n",
      "[63]\tvalid_0's l2: 1.68309\n",
      "[LightGBM] [Warning] No further splits with positive gain, best gain: -inf\n",
      "[64]\tvalid_0's l2: 1.68177\n",
      "[LightGBM] [Warning] No further splits with positive gain, best gain: -inf\n",
      "[65]\tvalid_0's l2: 1.68265\n",
      "[LightGBM] [Warning] No further splits with positive gain, best gain: -inf\n",
      "[66]\tvalid_0's l2: 1.68175\n",
      "[LightGBM] [Warning] No further splits with positive gain, best gain: -inf\n",
      "[67]\tvalid_0's l2: 1.68167\n",
      "[LightGBM] [Warning] No further splits with positive gain, best gain: -inf\n",
      "[68]\tvalid_0's l2: 1.68069\n",
      "[LightGBM] [Warning] No further splits with positive gain, best gain: -inf\n",
      "[69]\tvalid_0's l2: 1.67875\n",
      "[LightGBM] [Warning] No further splits with positive gain, best gain: -inf\n",
      "[70]\tvalid_0's l2: 1.6836\n",
      "[LightGBM] [Warning] No further splits with positive gain, best gain: -inf\n",
      "[71]\tvalid_0's l2: 1.68308\n",
      "[LightGBM] [Warning] No further splits with positive gain, best gain: -inf\n",
      "[72]\tvalid_0's l2: 1.68148\n",
      "[LightGBM] [Warning] No further splits with positive gain, best gain: -inf\n",
      "[73]\tvalid_0's l2: 1.68204\n",
      "[LightGBM] [Warning] No further splits with positive gain, best gain: -inf\n",
      "[74]\tvalid_0's l2: 1.6809\n",
      "[LightGBM] [Warning] No further splits with positive gain, best gain: -inf\n",
      "[75]\tvalid_0's l2: 1.67802\n",
      "[LightGBM] [Warning] No further splits with positive gain, best gain: -inf\n",
      "[76]\tvalid_0's l2: 1.68017\n",
      "[LightGBM] [Warning] No further splits with positive gain, best gain: -inf\n",
      "[77]\tvalid_0's l2: 1.67694\n",
      "[LightGBM] [Warning] No further splits with positive gain, best gain: -inf\n",
      "[78]\tvalid_0's l2: 1.67797\n",
      "[LightGBM] [Warning] No further splits with positive gain, best gain: -inf\n",
      "[79]\tvalid_0's l2: 1.67753\n",
      "[LightGBM] [Warning] No further splits with positive gain, best gain: -inf\n",
      "[80]\tvalid_0's l2: 1.67901\n",
      "[LightGBM] [Warning] No further splits with positive gain, best gain: -inf\n",
      "[81]\tvalid_0's l2: 1.67856\n",
      "[LightGBM] [Warning] No further splits with positive gain, best gain: -inf\n",
      "[82]\tvalid_0's l2: 1.68107\n",
      "[LightGBM] [Warning] No further splits with positive gain, best gain: -inf\n",
      "[83]\tvalid_0's l2: 1.6824\n",
      "[LightGBM] [Warning] No further splits with positive gain, best gain: -inf\n",
      "[84]\tvalid_0's l2: 1.68312\n",
      "[LightGBM] [Warning] No further splits with positive gain, best gain: -inf\n",
      "[85]\tvalid_0's l2: 1.67979\n",
      "[LightGBM] [Warning] No further splits with positive gain, best gain: -inf\n",
      "[86]\tvalid_0's l2: 1.67986\n",
      "[LightGBM] [Warning] No further splits with positive gain, best gain: -inf\n",
      "[87]\tvalid_0's l2: 1.68163\n",
      "[LightGBM] [Warning] No further splits with positive gain, best gain: -inf\n",
      "[88]\tvalid_0's l2: 1.68092\n",
      "[LightGBM] [Warning] No further splits with positive gain, best gain: -inf\n",
      "[89]\tvalid_0's l2: 1.68236\n",
      "[LightGBM] [Warning] No further splits with positive gain, best gain: -inf\n",
      "[90]\tvalid_0's l2: 1.68122\n",
      "[LightGBM] [Warning] No further splits with positive gain, best gain: -inf\n",
      "[91]\tvalid_0's l2: 1.682\n",
      "[LightGBM] [Warning] No further splits with positive gain, best gain: -inf\n",
      "[92]\tvalid_0's l2: 1.68171\n",
      "[LightGBM] [Warning] No further splits with positive gain, best gain: -inf\n",
      "[93]\tvalid_0's l2: 1.68246\n",
      "[LightGBM] [Warning] No further splits with positive gain, best gain: -inf\n",
      "[94]\tvalid_0's l2: 1.68363\n",
      "[LightGBM] [Warning] No further splits with positive gain, best gain: -inf\n",
      "[95]\tvalid_0's l2: 1.68438\n",
      "[LightGBM] [Warning] No further splits with positive gain, best gain: -inf\n",
      "[96]\tvalid_0's l2: 1.68537\n",
      "[LightGBM] [Warning] No further splits with positive gain, best gain: -inf\n",
      "[97]\tvalid_0's l2: 1.68741\n",
      "[LightGBM] [Warning] No further splits with positive gain, best gain: -inf\n",
      "[98]\tvalid_0's l2: 1.68817\n",
      "[LightGBM] [Warning] No further splits with positive gain, best gain: -inf\n",
      "[99]\tvalid_0's l2: 1.68896\n",
      "[LightGBM] [Warning] No further splits with positive gain, best gain: -inf\n",
      "[100]\tvalid_0's l2: 1.68863\n"
     ]
    }
   ],
   "source": [
    "trained = lgb.train(model.get_params(),\n",
    "          train_set=train_set,\n",
    "          valid_sets=test_set)"
   ],
   "metadata": {
    "collapsed": false
   }
  },
  {
   "cell_type": "code",
   "execution_count": 37,
   "outputs": [],
   "source": [
    "out2 = trained.predict(test_x)"
   ],
   "metadata": {
    "collapsed": false
   }
  },
  {
   "cell_type": "code",
   "execution_count": 38,
   "outputs": [
    {
     "data": {
      "text/plain": "array([5.09787065e-01, 3.49180614e-01, 3.10752896e-01, 4.74955220e-01,\n       2.13360441e-01, 1.61801234e+00, 1.71186370e-01, 3.15597986e+00,\n       1.23257317e+00, 8.72652230e-02, 1.78423143e+00, 2.23758243e-01,\n       1.86685329e+00, 6.25815722e-01, 4.71052900e-02, 5.17687149e-01,\n       2.39417781e+00, 7.67736812e-02, 6.33647974e-02, 3.30473863e-01,\n       4.54840879e-01, 1.01197640e-01, 5.72041139e-01, 4.24273983e-02,\n       1.52231764e-01, 4.97098685e-01, 4.88168097e-01, 2.72690060e-01,\n       7.24508059e-01, 1.45034667e+00, 5.19590477e-01, 1.25516787e-01,\n       1.72292089e+00, 1.57895099e+00, 2.79063104e-01, 4.43630709e-01,\n       5.15654389e-02, 2.10612096e-04, 7.83798762e-01, 6.31329047e-01,\n       1.39172989e+00, 1.03817240e+00, 1.31374824e+00, 4.76087306e-01,\n       2.18173245e-01, 6.25412265e-03, 5.98325572e-01, 3.18691419e-01,\n       1.43602414e+00, 4.38397356e-01, 9.28264952e-01, 1.52876542e+00,\n       5.99216914e-01, 4.82681158e-01, 2.94698448e-01, 3.38152919e-01,\n       1.65118774e+00, 7.93919602e-01, 1.10022094e-01, 1.03310602e+00,\n       6.83453618e-01, 6.65989516e-01, 7.30688675e-01, 2.09614468e-01,\n       8.35694254e-01, 2.45184801e+00, 2.12528478e-01, 1.07096800e+00,\n       1.20974521e+00, 1.25548760e+00, 3.22129485e+00, 1.54185430e+00,\n       5.94545432e-01, 9.78338310e-01, 3.24865753e-01, 4.21269994e-01,\n       8.84935308e-01, 8.41857487e-01, 1.56266111e+00, 1.92211374e-01,\n       1.03401162e+00, 2.99115352e-01, 1.27965277e+00, 1.75718757e+00,\n       3.37381230e+00, 5.39984408e-01, 2.66962629e-01, 1.48005028e+00,\n       2.20638947e-01, 1.63579905e+00, 8.33477482e-01, 1.50485392e+00,\n       7.79499282e-01, 7.55380324e-01, 6.07147358e-01, 1.20448507e+00,\n       8.41181456e-01, 2.29171947e-01, 1.95476155e-01, 1.94756144e+00,\n       7.36353253e-01, 2.99660602e-01, 3.91785706e-01, 8.34542237e-01,\n       1.02771703e+00, 4.94280666e-01, 3.42208417e-02, 1.52372888e+00,\n       1.48279111e+00, 2.65047851e+00, 3.02929619e+00, 1.18932194e+00,\n       9.15097211e-01, 1.02126599e+00, 2.05450435e+00, 1.31708489e+00,\n       1.26406296e+00, 7.12146304e-01, 3.85760265e-01, 5.18935330e-01,\n       3.42187359e-01, 2.11835118e-01, 8.29241554e-01, 3.01326689e-01,\n       1.50625531e+00, 4.45058661e-02, 5.26594527e-01, 1.46888337e+00,\n       1.52131114e+00, 9.45320778e-02, 7.84852045e-01, 1.03747289e+00,\n       1.15473517e+00, 1.23145971e+00, 6.25033710e-01, 6.91313236e-01,\n       6.65740107e-01, 1.36548239e-01, 1.18836625e+00, 1.12585834e-01,\n       3.45957173e-01, 1.77058322e+00, 3.36456174e-01, 4.95616828e-01,\n       1.35775773e+00, 1.83415069e-01, 5.32942427e-01, 2.65917386e+00,\n       1.58951278e+00, 1.64314153e+00, 2.72575773e+00, 8.24158458e-01,\n       3.21012950e-01, 6.39065474e-01, 6.49544130e-02, 5.22387119e-01,\n       8.02138780e-01, 6.66856155e-02, 1.83035130e+00, 2.02011777e+00,\n       1.24346377e+00, 1.46148762e+00, 1.26374779e-01, 6.24410661e-01,\n       1.93714396e+00, 1.17063048e+00, 2.16594035e-01, 4.76161508e-02,\n       9.32356423e-01, 6.13678454e-01, 2.90132144e-01, 8.62569111e-01,\n       6.11847143e-01, 1.10439045e+00, 1.60320740e+00, 8.94834772e-01,\n       1.11120483e+00, 2.62909624e-01, 1.18684338e+00, 4.49493119e-01,\n       1.46740449e+00, 2.22594288e+00, 8.87040149e-01, 2.14967103e+00,\n       1.89793883e+00, 1.50454971e+00, 1.11346996e+00, 1.49093024e+00,\n       7.88929967e-01, 7.53496674e-02, 5.41471642e-01, 2.17445966e+00,\n       2.09781804e+00, 5.90083474e-01, 2.20325762e+00, 1.01843208e+00,\n       1.34764725e+00, 1.06130837e+00, 1.22189611e+00, 4.45078455e-01,\n       6.10410226e-01, 1.35344551e+00, 1.35496595e-01, 2.09031489e+00,\n       1.12124784e+00, 5.09785951e-01, 6.01902928e-01, 1.16736667e+00,\n       8.11482961e-01, 1.72652950e-01, 6.97544937e-01, 2.69326438e+00,\n       2.87542080e+00, 1.59538390e+00, 5.32513109e-01, 3.94248278e+00,\n       1.21435679e+00, 3.09080123e-01, 2.54126327e-01, 8.79066019e-01,\n       1.20628401e+00, 8.30303176e-01, 2.09030231e-01, 2.77886689e-02,\n       2.73374903e-01, 3.31304680e+00, 1.77038878e+00, 3.22920960e+00,\n       2.96583093e+00, 1.69509210e+00, 1.10058449e+00, 1.54317167e+00,\n       5.17637066e-01, 1.05670396e+00, 7.77796442e-01, 1.83524235e-01,\n       9.67679280e-01, 1.24214307e+00, 1.58078251e+00, 2.35497379e+00,\n       1.33748452e-01, 2.53756421e+00, 1.33885424e+00, 6.19709621e-01,\n       1.54729106e+00, 1.70038890e+00, 3.89307901e-01, 4.32604724e-01,\n       1.39662180e+00, 1.11915994e+00, 1.37600326e+00, 1.19146356e+00,\n       1.15097993e+00, 9.66391431e-01, 1.10432269e+00, 4.60122747e+00,\n       2.77319857e-02, 2.43184998e+00, 2.74558054e+00, 2.78097361e-01,\n       9.32857530e-01, 1.84543993e+00, 3.89581598e-02, 6.90860075e-01,\n       1.05528956e+00, 1.07944979e+00, 1.71734377e-01, 1.56825673e-01,\n       2.33557497e+00, 1.58375836e+00, 1.00918544e+00, 9.11824076e-01,\n       6.10599590e-01, 1.29405055e+00, 2.13515538e+00, 8.31880674e-01,\n       1.19426841e-01, 1.39603842e+00, 9.37930283e-01, 2.74958038e+00,\n       1.73789275e+00, 1.21747410e+00, 1.70201459e+00, 2.40484081e+00,\n       5.15822987e-01, 8.19176838e-01, 3.82798724e-01, 1.39666921e+00,\n       1.53511451e+00, 6.09423811e-01, 4.58391103e-01, 1.06153758e+00,\n       1.47608842e+00, 2.48344872e-01, 7.88643913e-01, 6.89316042e-01,\n       1.36931929e+00, 4.29784690e+00, 2.12926325e+00, 1.50497736e+00,\n       3.08672379e+00, 2.21510677e+00, 1.06487459e+00, 1.91603262e+00,\n       5.89072314e-01, 2.33964617e+00, 4.40877594e-01, 5.27165349e-01,\n       1.13778390e+00, 1.06729497e-02, 8.06807775e-01, 8.45402559e-01,\n       1.99449986e+00, 6.58509940e-01, 1.11101646e+00, 1.19375888e+00,\n       1.08774585e+00, 5.64051879e-01, 1.14837245e-01, 5.45225305e-01,\n       1.07800463e+00, 1.10166267e+00, 1.97149233e-01, 2.18012910e+00,\n       1.45445543e+00, 2.40751230e-01, 6.72078877e-01, 1.42345214e+00,\n       1.87735760e-01, 1.06671921e+00, 2.11366316e-01, 2.64102986e-01,\n       2.73757835e-01, 1.14136223e+00, 1.01937024e+00, 5.99263158e-01,\n       3.32724444e-02, 8.93248512e-01, 1.18763253e+00, 4.48211095e-01,\n       1.31903782e+00, 1.20093114e+00, 1.67545115e+00, 1.07994007e-01,\n       1.93603425e+00, 9.93813372e-02, 1.02914709e+00, 9.86255020e-03,\n       5.65344233e-01, 9.56668086e-02, 4.13076274e-01, 1.14511952e+00,\n       9.81086444e-01, 8.35291352e-01, 9.47530566e-01, 1.49196332e-01,\n       1.14917257e+00, 1.65282157e+00, 2.16389067e-01, 1.07743245e+00,\n       1.44807021e+00, 6.69227071e-02, 2.13571790e+00, 1.66648837e+00,\n       1.14624787e+00, 1.27240864e+00, 2.25226885e-02, 8.96099431e-01,\n       5.66635753e-01, 5.68607448e-02, 2.43309722e+00, 4.83710689e+00,\n       3.61160193e-01, 1.92076669e-01, 5.35909653e-02, 1.84953421e-03,\n       4.06957568e-01, 2.44047078e-01, 3.20768059e-01, 2.19546291e-01,\n       1.25627804e+00, 2.04973723e+00, 1.76433520e-01, 3.25981595e-01,\n       1.57807448e+00, 6.23628991e-01, 1.47989267e-01, 1.54747163e+00,\n       1.96745410e+00, 3.90175317e-01, 4.48929730e-01, 2.93088177e-01,\n       8.17261965e-01, 1.67058294e+00, 4.69266658e+00, 3.13413727e+00,\n       2.53624917e-01, 1.68528532e-01, 1.05477858e+00, 2.30368171e+00,\n       2.26872256e+00, 1.46899054e+00, 1.57260443e+00, 7.62773046e-01,\n       8.69553631e-01, 1.25063572e+00, 2.21880371e-01, 1.80622523e+00,\n       1.36147562e+00, 6.86593406e-01, 5.50637200e-01, 1.48312045e+00,\n       1.05357192e+00, 7.28486161e-01, 1.22347116e+00, 1.72173169e+00,\n       1.38618973e+00, 6.15455583e-01, 3.85234425e-01, 1.37307738e+00,\n       1.42091025e+00, 7.87872248e-02, 2.93496680e-02, 5.00400929e-01,\n       5.69864036e-02, 6.47000875e-01, 7.81913926e-01, 1.47287954e+00,\n       8.95754750e-01, 7.22346244e-02, 3.87020566e-01, 3.81091989e-01,\n       5.37156187e-02, 4.27144492e-01, 1.20192025e+00, 1.07486150e+00,\n       9.37879086e-03, 6.41589159e-01, 1.17282484e+00, 7.58393720e-01,\n       1.09240613e+00, 1.31662875e+00, 3.26226634e-01, 2.79559321e-01,\n       7.74185114e-01, 5.98477644e-01, 1.92838122e-01, 2.58292149e-01,\n       3.43290993e-01, 1.54214703e+00, 5.04050396e-01, 1.95140304e+00,\n       9.07545458e-01, 7.46146338e-01, 1.47995619e+00, 1.01556838e+00,\n       3.48444851e-01, 1.64048869e+00, 1.56285496e+00, 1.19631294e+00,\n       3.95061172e-01, 5.39304993e-01, 3.11457100e-01, 6.52234622e-01,\n       1.91402119e+00, 7.21438424e-01, 3.64407580e+00, 2.31394135e+00,\n       6.91771219e-01, 1.94277676e-01, 5.49783961e-01, 8.55745536e-01,\n       5.81427029e-01, 8.25392194e-02, 3.35956553e-01, 1.62281202e+00,\n       6.42138908e-01, 1.88396176e+00, 1.71982211e-01, 9.10612262e-01,\n       1.04218259e+00, 3.94530052e-01, 7.43936078e-01, 2.73668427e+00,\n       3.13987094e+00, 6.17098742e-01, 2.87027779e+00, 3.38720456e+00,\n       1.24900946e+00, 1.69560135e+00, 2.00633834e+00, 8.94141757e-01,\n       1.01962843e+00, 3.66578093e-01, 5.26146700e-01, 6.02309333e-02,\n       5.04742692e-01, 2.10917211e+00, 6.71201794e-01])"
     },
     "execution_count": 38,
     "metadata": {},
     "output_type": "execute_result"
    }
   ],
   "source": [
    "abs(test_y-out2)"
   ],
   "metadata": {
    "collapsed": false
   }
  },
  {
   "cell_type": "code",
   "execution_count": 40,
   "outputs": [
    {
     "data": {
      "text/plain": "1.010522832968564"
     },
     "execution_count": 40,
     "metadata": {},
     "output_type": "execute_result"
    }
   ],
   "source": [
    "abs(test_y-out2).mean()"
   ],
   "metadata": {
    "collapsed": false
   }
  },
  {
   "cell_type": "code",
   "execution_count": 41,
   "outputs": [
    {
     "data": {
      "text/plain": "<lightgbm.basic.Booster at 0x7f8b68de9730>"
     },
     "execution_count": 41,
     "metadata": {},
     "output_type": "execute_result"
    }
   ],
   "source": [
    "trained.save_model('model_v1.txt')"
   ],
   "metadata": {
    "collapsed": false
   }
  },
  {
   "cell_type": "code",
   "execution_count": null,
   "outputs": [],
   "source": [],
   "metadata": {
    "collapsed": false
   }
  }
 ],
 "metadata": {
  "kernelspec": {
   "display_name": "Python 3",
   "language": "python",
   "name": "python3"
  },
  "language_info": {
   "codemirror_mode": {
    "name": "ipython",
    "version": 2
   },
   "file_extension": ".py",
   "mimetype": "text/x-python",
   "name": "python",
   "nbconvert_exporter": "python",
   "pygments_lexer": "ipython2",
   "version": "2.7.6"
  }
 },
 "nbformat": 4,
 "nbformat_minor": 0
}
